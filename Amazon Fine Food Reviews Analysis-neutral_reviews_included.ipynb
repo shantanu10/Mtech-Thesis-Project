{
 "cells": [
  {
   "cell_type": "code",
   "execution_count": 1,
   "metadata": {
    "colab": {},
    "colab_type": "code",
    "id": "vXnuoQYEMQvO"
   },
   "outputs": [],
   "source": [
    "%matplotlib inline\n",
    "import warnings\n",
    "warnings.filterwarnings(\"ignore\")\n",
    "\n",
    "import sqlite3\n",
    "import pandas as pd\n",
    "import numpy as np\n",
    "import nltk\n",
    "import string\n",
    "\n",
    "import matplotlib.pyplot as plt\n",
    "import seaborn as sns\n",
    "from sklearn.feature_extraction.text import TfidfTransformer\n",
    "from sklearn.feature_extraction.text import TfidfVectorizer\n",
    "\n",
    "from sklearn.feature_extraction.text import CountVectorizer\n",
    "from sklearn.metrics import confusion_matrix\n",
    "from sklearn import metrics\n",
    "from sklearn.metrics import roc_curve, auc\n",
    "from nltk.stem.porter import PorterStemmer\n",
    "\n",
    "import re\n",
    "# Tutorial about Python regular expressions: https://pymotw.com/2/re/\n",
    "import string\n",
    "from nltk.corpus import stopwords\n",
    "from nltk.stem import PorterStemmer\n",
    "from nltk.stem.wordnet import WordNetLemmatizer\n",
    "\n",
    "from gensim.models import Word2Vec\n",
    "from gensim.models import KeyedVectors\n",
    "import pickle\n",
    "\n",
    "from tqdm import tqdm\n",
    "import os"
   ]
  },
  {
   "cell_type": "code",
   "execution_count": 2,
   "metadata": {
    "colab": {},
    "colab_type": "code",
    "id": "-lrJx9N9MQvT"
   },
   "outputs": [
    {
     "name": "stdout",
     "output_type": "stream",
     "text": [
      "Number of data points in our data (568454, 10)\n"
     ]
    },
    {
     "data": {
      "text/html": [
       "<div>\n",
       "<style scoped>\n",
       "    .dataframe tbody tr th:only-of-type {\n",
       "        vertical-align: middle;\n",
       "    }\n",
       "\n",
       "    .dataframe tbody tr th {\n",
       "        vertical-align: top;\n",
       "    }\n",
       "\n",
       "    .dataframe thead th {\n",
       "        text-align: right;\n",
       "    }\n",
       "</style>\n",
       "<table border=\"1\" class=\"dataframe\">\n",
       "  <thead>\n",
       "    <tr style=\"text-align: right;\">\n",
       "      <th></th>\n",
       "      <th>Id</th>\n",
       "      <th>ProductId</th>\n",
       "      <th>UserId</th>\n",
       "      <th>ProfileName</th>\n",
       "      <th>HelpfulnessNumerator</th>\n",
       "      <th>HelpfulnessDenominator</th>\n",
       "      <th>Score</th>\n",
       "      <th>Time</th>\n",
       "      <th>Summary</th>\n",
       "      <th>Text</th>\n",
       "    </tr>\n",
       "  </thead>\n",
       "  <tbody>\n",
       "    <tr>\n",
       "      <th>0</th>\n",
       "      <td>1</td>\n",
       "      <td>B001E4KFG0</td>\n",
       "      <td>A3SGXH7AUHU8GW</td>\n",
       "      <td>delmartian</td>\n",
       "      <td>1</td>\n",
       "      <td>1</td>\n",
       "      <td>2</td>\n",
       "      <td>1303862400</td>\n",
       "      <td>Good Quality Dog Food</td>\n",
       "      <td>I have bought several of the Vitality canned d...</td>\n",
       "    </tr>\n",
       "    <tr>\n",
       "      <th>1</th>\n",
       "      <td>2</td>\n",
       "      <td>B00813GRG4</td>\n",
       "      <td>A1D87F6ZCVE5NK</td>\n",
       "      <td>dll pa</td>\n",
       "      <td>0</td>\n",
       "      <td>0</td>\n",
       "      <td>0</td>\n",
       "      <td>1346976000</td>\n",
       "      <td>Not as Advertised</td>\n",
       "      <td>Product arrived labeled as Jumbo Salted Peanut...</td>\n",
       "    </tr>\n",
       "    <tr>\n",
       "      <th>2</th>\n",
       "      <td>3</td>\n",
       "      <td>B000LQOCH0</td>\n",
       "      <td>ABXLMWJIXXAIN</td>\n",
       "      <td>Natalia Corres \"Natalia Corres\"</td>\n",
       "      <td>1</td>\n",
       "      <td>1</td>\n",
       "      <td>2</td>\n",
       "      <td>1219017600</td>\n",
       "      <td>\"Delight\" says it all</td>\n",
       "      <td>This is a confection that has been around a fe...</td>\n",
       "    </tr>\n",
       "  </tbody>\n",
       "</table>\n",
       "</div>"
      ],
      "text/plain": [
       "   Id   ProductId          UserId                      ProfileName  \\\n",
       "0   1  B001E4KFG0  A3SGXH7AUHU8GW                       delmartian   \n",
       "1   2  B00813GRG4  A1D87F6ZCVE5NK                           dll pa   \n",
       "2   3  B000LQOCH0   ABXLMWJIXXAIN  Natalia Corres \"Natalia Corres\"   \n",
       "\n",
       "   HelpfulnessNumerator  HelpfulnessDenominator  Score        Time  \\\n",
       "0                     1                       1      2  1303862400   \n",
       "1                     0                       0      0  1346976000   \n",
       "2                     1                       1      2  1219017600   \n",
       "\n",
       "                 Summary                                               Text  \n",
       "0  Good Quality Dog Food  I have bought several of the Vitality canned d...  \n",
       "1      Not as Advertised  Product arrived labeled as Jumbo Salted Peanut...  \n",
       "2  \"Delight\" says it all  This is a confection that has been around a fe...  "
      ]
     },
     "execution_count": 2,
     "metadata": {},
     "output_type": "execute_result"
    }
   ],
   "source": [
    "# using the SQLite Table to read data.\n",
    "con = sqlite3.connect('database.sqlite') \n",
    "#filtering only positive and negative reviews i.e. \n",
    "# not taking into consideration those reviews with Score=3\n",
    "filtered_data = pd.read_sql_query(\"\"\" SELECT * FROM Reviews \"\"\", con) \n",
    "\n",
    "\n",
    "# Give reviews with Score>3 a positive rating, and reviews with a score<3 a negative rating.\n",
    "def partition(x):\n",
    "    if x < 3:\n",
    "        return 0\n",
    "    elif x == 3:\n",
    "        return 1\n",
    "    else:\n",
    "        return 2\n",
    "\n",
    "#changing reviews with score less than 3 to be positive and vice-versa\n",
    "actualScore = filtered_data['Score']\n",
    "positiveNegative = actualScore.map(partition) \n",
    "filtered_data['Score'] = positiveNegative\n",
    "print(\"Number of data points in our data\", filtered_data.shape)\n",
    "filtered_data.head(3)"
   ]
  },
  {
   "cell_type": "markdown",
   "metadata": {
    "colab_type": "text",
    "id": "CF7NMcGnMQvX"
   },
   "source": [
    "#  Exploratory Data Analysis\n",
    "\n",
    "## Data Cleaning: Deduplication\n"
   ]
  },
  {
   "cell_type": "code",
   "execution_count": 3,
   "metadata": {
    "colab": {},
    "colab_type": "code",
    "id": "_G5KBj5FMQvY",
    "scrolled": false
   },
   "outputs": [
    {
     "data": {
      "text/html": [
       "<div>\n",
       "<style scoped>\n",
       "    .dataframe tbody tr th:only-of-type {\n",
       "        vertical-align: middle;\n",
       "    }\n",
       "\n",
       "    .dataframe tbody tr th {\n",
       "        vertical-align: top;\n",
       "    }\n",
       "\n",
       "    .dataframe thead th {\n",
       "        text-align: right;\n",
       "    }\n",
       "</style>\n",
       "<table border=\"1\" class=\"dataframe\">\n",
       "  <thead>\n",
       "    <tr style=\"text-align: right;\">\n",
       "      <th></th>\n",
       "      <th>Id</th>\n",
       "      <th>ProductId</th>\n",
       "      <th>UserId</th>\n",
       "      <th>ProfileName</th>\n",
       "      <th>HelpfulnessNumerator</th>\n",
       "      <th>HelpfulnessDenominator</th>\n",
       "      <th>Score</th>\n",
       "      <th>Time</th>\n",
       "      <th>Summary</th>\n",
       "      <th>Text</th>\n",
       "    </tr>\n",
       "  </thead>\n",
       "  <tbody>\n",
       "    <tr>\n",
       "      <th>0</th>\n",
       "      <td>78445</td>\n",
       "      <td>B000HDL1RQ</td>\n",
       "      <td>AR5J8UI46CURR</td>\n",
       "      <td>Geetha Krishnan</td>\n",
       "      <td>2</td>\n",
       "      <td>2</td>\n",
       "      <td>5</td>\n",
       "      <td>1199577600</td>\n",
       "      <td>LOACKER QUADRATINI VANILLA WAFERS</td>\n",
       "      <td>DELICIOUS WAFERS. I FIND THAT EUROPEAN WAFERS ...</td>\n",
       "    </tr>\n",
       "    <tr>\n",
       "      <th>1</th>\n",
       "      <td>138317</td>\n",
       "      <td>B000HDOPYC</td>\n",
       "      <td>AR5J8UI46CURR</td>\n",
       "      <td>Geetha Krishnan</td>\n",
       "      <td>2</td>\n",
       "      <td>2</td>\n",
       "      <td>5</td>\n",
       "      <td>1199577600</td>\n",
       "      <td>LOACKER QUADRATINI VANILLA WAFERS</td>\n",
       "      <td>DELICIOUS WAFERS. I FIND THAT EUROPEAN WAFERS ...</td>\n",
       "    </tr>\n",
       "    <tr>\n",
       "      <th>2</th>\n",
       "      <td>138277</td>\n",
       "      <td>B000HDOPYM</td>\n",
       "      <td>AR5J8UI46CURR</td>\n",
       "      <td>Geetha Krishnan</td>\n",
       "      <td>2</td>\n",
       "      <td>2</td>\n",
       "      <td>5</td>\n",
       "      <td>1199577600</td>\n",
       "      <td>LOACKER QUADRATINI VANILLA WAFERS</td>\n",
       "      <td>DELICIOUS WAFERS. I FIND THAT EUROPEAN WAFERS ...</td>\n",
       "    </tr>\n",
       "    <tr>\n",
       "      <th>3</th>\n",
       "      <td>73791</td>\n",
       "      <td>B000HDOPZG</td>\n",
       "      <td>AR5J8UI46CURR</td>\n",
       "      <td>Geetha Krishnan</td>\n",
       "      <td>2</td>\n",
       "      <td>2</td>\n",
       "      <td>5</td>\n",
       "      <td>1199577600</td>\n",
       "      <td>LOACKER QUADRATINI VANILLA WAFERS</td>\n",
       "      <td>DELICIOUS WAFERS. I FIND THAT EUROPEAN WAFERS ...</td>\n",
       "    </tr>\n",
       "    <tr>\n",
       "      <th>4</th>\n",
       "      <td>155049</td>\n",
       "      <td>B000PAQ75C</td>\n",
       "      <td>AR5J8UI46CURR</td>\n",
       "      <td>Geetha Krishnan</td>\n",
       "      <td>2</td>\n",
       "      <td>2</td>\n",
       "      <td>5</td>\n",
       "      <td>1199577600</td>\n",
       "      <td>LOACKER QUADRATINI VANILLA WAFERS</td>\n",
       "      <td>DELICIOUS WAFERS. I FIND THAT EUROPEAN WAFERS ...</td>\n",
       "    </tr>\n",
       "  </tbody>\n",
       "</table>\n",
       "</div>"
      ],
      "text/plain": [
       "       Id   ProductId         UserId      ProfileName  HelpfulnessNumerator  \\\n",
       "0   78445  B000HDL1RQ  AR5J8UI46CURR  Geetha Krishnan                     2   \n",
       "1  138317  B000HDOPYC  AR5J8UI46CURR  Geetha Krishnan                     2   \n",
       "2  138277  B000HDOPYM  AR5J8UI46CURR  Geetha Krishnan                     2   \n",
       "3   73791  B000HDOPZG  AR5J8UI46CURR  Geetha Krishnan                     2   \n",
       "4  155049  B000PAQ75C  AR5J8UI46CURR  Geetha Krishnan                     2   \n",
       "\n",
       "   HelpfulnessDenominator  Score        Time  \\\n",
       "0                       2      5  1199577600   \n",
       "1                       2      5  1199577600   \n",
       "2                       2      5  1199577600   \n",
       "3                       2      5  1199577600   \n",
       "4                       2      5  1199577600   \n",
       "\n",
       "                             Summary  \\\n",
       "0  LOACKER QUADRATINI VANILLA WAFERS   \n",
       "1  LOACKER QUADRATINI VANILLA WAFERS   \n",
       "2  LOACKER QUADRATINI VANILLA WAFERS   \n",
       "3  LOACKER QUADRATINI VANILLA WAFERS   \n",
       "4  LOACKER QUADRATINI VANILLA WAFERS   \n",
       "\n",
       "                                                Text  \n",
       "0  DELICIOUS WAFERS. I FIND THAT EUROPEAN WAFERS ...  \n",
       "1  DELICIOUS WAFERS. I FIND THAT EUROPEAN WAFERS ...  \n",
       "2  DELICIOUS WAFERS. I FIND THAT EUROPEAN WAFERS ...  \n",
       "3  DELICIOUS WAFERS. I FIND THAT EUROPEAN WAFERS ...  \n",
       "4  DELICIOUS WAFERS. I FIND THAT EUROPEAN WAFERS ...  "
      ]
     },
     "execution_count": 3,
     "metadata": {},
     "output_type": "execute_result"
    }
   ],
   "source": [
    "display= pd.read_sql_query(\"\"\"\n",
    "SELECT *\n",
    "FROM Reviews\n",
    "WHERE UserId=\"AR5J8UI46CURR\"\n",
    "ORDER BY ProductID\n",
    "\"\"\", con)\n",
    "display.head()"
   ]
  },
  {
   "cell_type": "markdown",
   "metadata": {
    "colab_type": "text",
    "id": "95Aa3bAYMQvb"
   },
   "source": [
    "As can be seen above the same user has multiple reviews of the with the same values for HelpfulnessNumerator, HelpfulnessDenominator, Score, Time, Summary and Text  and on doing analysis it was found that <br>\n",
    "<br> \n",
    "ProductId=B000HDOPZG was Loacker Quadratini Vanilla Wafer Cookies, 8.82-Ounce Packages (Pack of 8)<br>\n",
    "<br> \n",
    "ProductId=B000HDL1RQ was Loacker Quadratini Lemon Wafer Cookies, 8.82-Ounce Packages (Pack of 8) and so on<br>\n",
    "\n",
    "It was inferred after analysis that reviews with same parameters other than ProductId belonged to the same product just having different flavour or quantity. Hence in order to reduce redundancy it was decided to eliminate the rows having same parameters.<br>\n",
    "\n",
    "The method used for the same was that we first sort the data according to ProductId and then just keep the first similar product review and delelte the others. for eg. in the above just the review for ProductId=B000HDL1RQ remains. This method ensures that there is only one representative for each product and deduplication without sorting would lead to possibility of different representatives still existing for the same product."
   ]
  },
  {
   "cell_type": "code",
   "execution_count": 4,
   "metadata": {
    "colab": {},
    "colab_type": "code",
    "id": "0wUj2BDzMQvc"
   },
   "outputs": [],
   "source": [
    "#Sorting data according to ProductId in ascending order\n",
    "sorted_data=filtered_data.sort_values('ProductId', axis=0, ascending=True, inplace=False, kind='quicksort', na_position='last')"
   ]
  },
  {
   "cell_type": "code",
   "execution_count": 5,
   "metadata": {
    "colab": {},
    "colab_type": "code",
    "id": "hYd69x4KMQve"
   },
   "outputs": [
    {
     "data": {
      "text/plain": [
       "(393933, 10)"
      ]
     },
     "execution_count": 5,
     "metadata": {},
     "output_type": "execute_result"
    }
   ],
   "source": [
    "#Deduplication of entries\n",
    "final=sorted_data.drop_duplicates(subset={\"UserId\",\"ProfileName\",\"Time\",\"Text\"}, keep='first', inplace=False)\n",
    "final.shape"
   ]
  },
  {
   "cell_type": "code",
   "execution_count": 6,
   "metadata": {
    "colab": {},
    "colab_type": "code",
    "id": "_UVH2UNwMQvi"
   },
   "outputs": [
    {
     "data": {
      "text/plain": [
       "69.29901100176971"
      ]
     },
     "execution_count": 6,
     "metadata": {},
     "output_type": "execute_result"
    }
   ],
   "source": [
    "#Checking to see how much % of data still remains\n",
    "(final['Id'].size*1.0)/(filtered_data['Id'].size*1.0)*100"
   ]
  },
  {
   "cell_type": "raw",
   "metadata": {},
   "source": [
    "Around 70% of the data remained after deduplication."
   ]
  },
  {
   "cell_type": "markdown",
   "metadata": {
    "colab_type": "text",
    "id": "GeOy9IcuMQvk"
   },
   "source": [
    "It was also seen that in two rows given below the value of HelpfulnessNumerator is greater than HelpfulnessDenominator which is not practically possible hence these two rows too are removed from calcualtions\n",
    "## Data Cleaning (contd..)"
   ]
  },
  {
   "cell_type": "code",
   "execution_count": 7,
   "metadata": {
    "colab": {},
    "colab_type": "code",
    "id": "EDD5FsuGMQvm"
   },
   "outputs": [
    {
     "data": {
      "text/html": [
       "<div>\n",
       "<style scoped>\n",
       "    .dataframe tbody tr th:only-of-type {\n",
       "        vertical-align: middle;\n",
       "    }\n",
       "\n",
       "    .dataframe tbody tr th {\n",
       "        vertical-align: top;\n",
       "    }\n",
       "\n",
       "    .dataframe thead th {\n",
       "        text-align: right;\n",
       "    }\n",
       "</style>\n",
       "<table border=\"1\" class=\"dataframe\">\n",
       "  <thead>\n",
       "    <tr style=\"text-align: right;\">\n",
       "      <th></th>\n",
       "      <th>Id</th>\n",
       "      <th>ProductId</th>\n",
       "      <th>UserId</th>\n",
       "      <th>ProfileName</th>\n",
       "      <th>HelpfulnessNumerator</th>\n",
       "      <th>HelpfulnessDenominator</th>\n",
       "      <th>Score</th>\n",
       "      <th>Time</th>\n",
       "      <th>Summary</th>\n",
       "      <th>Text</th>\n",
       "    </tr>\n",
       "  </thead>\n",
       "  <tbody>\n",
       "    <tr>\n",
       "      <th>0</th>\n",
       "      <td>64422</td>\n",
       "      <td>B000MIDROQ</td>\n",
       "      <td>A161DK06JJMCYF</td>\n",
       "      <td>J. E. Stephens \"Jeanne\"</td>\n",
       "      <td>3</td>\n",
       "      <td>1</td>\n",
       "      <td>5</td>\n",
       "      <td>1224892800</td>\n",
       "      <td>Bought This for My Son at College</td>\n",
       "      <td>My son loves spaghetti so I didn't hesitate or...</td>\n",
       "    </tr>\n",
       "    <tr>\n",
       "      <th>1</th>\n",
       "      <td>44737</td>\n",
       "      <td>B001EQ55RW</td>\n",
       "      <td>A2V0I904FH7ABY</td>\n",
       "      <td>Ram</td>\n",
       "      <td>3</td>\n",
       "      <td>2</td>\n",
       "      <td>4</td>\n",
       "      <td>1212883200</td>\n",
       "      <td>Pure cocoa taste with crunchy almonds inside</td>\n",
       "      <td>It was almost a 'love at first bite' - the per...</td>\n",
       "    </tr>\n",
       "  </tbody>\n",
       "</table>\n",
       "</div>"
      ],
      "text/plain": [
       "      Id   ProductId          UserId              ProfileName  \\\n",
       "0  64422  B000MIDROQ  A161DK06JJMCYF  J. E. Stephens \"Jeanne\"   \n",
       "1  44737  B001EQ55RW  A2V0I904FH7ABY                      Ram   \n",
       "\n",
       "   HelpfulnessNumerator  HelpfulnessDenominator  Score        Time  \\\n",
       "0                     3                       1      5  1224892800   \n",
       "1                     3                       2      4  1212883200   \n",
       "\n",
       "                                        Summary  \\\n",
       "0             Bought This for My Son at College   \n",
       "1  Pure cocoa taste with crunchy almonds inside   \n",
       "\n",
       "                                                Text  \n",
       "0  My son loves spaghetti so I didn't hesitate or...  \n",
       "1  It was almost a 'love at first bite' - the per...  "
      ]
     },
     "execution_count": 7,
     "metadata": {},
     "output_type": "execute_result"
    }
   ],
   "source": [
    "display= pd.read_sql_query(\"\"\"\n",
    "SELECT *\n",
    "FROM Reviews\n",
    "WHERE Id=44737 OR Id=64422\n",
    "ORDER BY ProductID\n",
    "\"\"\", con)\n",
    "\n",
    "display.head()"
   ]
  },
  {
   "cell_type": "code",
   "execution_count": 8,
   "metadata": {
    "colab": {},
    "colab_type": "code",
    "id": "kThrWN9FMQvq"
   },
   "outputs": [],
   "source": [
    "final=final[final.HelpfulnessNumerator<=final.HelpfulnessDenominator]"
   ]
  },
  {
   "cell_type": "code",
   "execution_count": 9,
   "metadata": {
    "colab": {},
    "colab_type": "code",
    "id": "lvw544BEMQvs"
   },
   "outputs": [
    {
     "name": "stdout",
     "output_type": "stream",
     "text": [
      "(393931, 10)\n"
     ]
    },
    {
     "data": {
      "text/plain": [
       "2    307052\n",
       "0     57107\n",
       "1     29772\n",
       "Name: Score, dtype: int64"
      ]
     },
     "execution_count": 9,
     "metadata": {},
     "output_type": "execute_result"
    }
   ],
   "source": [
    "#Before starting the next phase of preprocessing lets see the number of entries left\n",
    "print(final.shape)\n",
    "\n",
    "#How many positive and negative reviews are present in our dataset?\n",
    "final['Score'].value_counts()"
   ]
  },
  {
   "cell_type": "code",
   "execution_count": 10,
   "metadata": {},
   "outputs": [
    {
     "name": "stdout",
     "output_type": "stream",
     "text": [
      "<class 'list'>\n",
      "393931\n"
     ]
    }
   ],
   "source": [
    "score = list(final['Score'])\n",
    "print(type(score))\n",
    "print(len(score))"
   ]
  },
  {
   "cell_type": "code",
   "execution_count": 11,
   "metadata": {},
   "outputs": [],
   "source": [
    "outfile = open(\"score.pkl\", \"wb\")\n",
    "pickle.dump(score, outfile)"
   ]
  },
  {
   "cell_type": "markdown",
   "metadata": {
    "colab_type": "text",
    "id": "3-ZDuet8MQvw"
   },
   "source": [
    "## Text Preprocessing: Stemming, stop-word removal and Lemmatization.\n",
    "\n",
    "Now that we have finished deduplication our data requires some preprocessing before we go on further with analysis and making the prediction model.\n",
    "\n",
    "Hence in the Preprocessing phase we do the following in the order below:-\n",
    "\n",
    "1. Begin by removing the html tags\n",
    "2. Remove any punctuations or limited set of special characters like , or . or # etc.\n",
    "3. Check if the word is made up of english letters and is not alpha-numeric\n",
    "4. Check to see if the length of the word is greater than 2 (as it was researched that there is no adjective in 2-letters)\n",
    "5. Convert the word to lowercase\n",
    "6. Remove Stopwords\n",
    "7. Finally Snowball Stemming the word (it was obsereved to be better than Porter Stemming)<br>\n",
    "\n",
    "After which we collect the words used to describe positive and negative reviews"
   ]
  },
  {
   "cell_type": "code",
   "execution_count": 12,
   "metadata": {
    "colab": {},
    "colab_type": "code",
    "id": "I2NRwIj6MQvz"
   },
   "outputs": [
    {
     "name": "stdout",
     "output_type": "stream",
     "text": [
      "0\n",
      "In June<br />I saw a charming group<br />of roses all begin<br />to droop<br />I pepped them up<br />with chicken soup!<br />Sprinkle once<br />sprinkle twice<br />sprinkle chicken soup<br />with rice<br /><br />This is a great book to teach children the months of the year. The repetition of the phrases and the funny little stories with accompanying pictures make for an ideal bedtime read. This isn't nearly as good as some of Sendak's other books (like Where the Wild Things are or Pierre: The Boy Who Didn't Care), but it still carries his unique brand of charm.\n"
     ]
    }
   ],
   "source": [
    "# find sentences containing HTML tags\n",
    "import re\n",
    "i=0;\n",
    "for sent in final['Text'].values:\n",
    "    if (len(re.findall('<.*?>', sent))):\n",
    "        print(i)\n",
    "        print(sent)\n",
    "        break;\n",
    "    i += 1;"
   ]
  },
  {
   "cell_type": "code",
   "execution_count": 13,
   "metadata": {
    "colab": {},
    "colab_type": "code",
    "id": "hSYsO2neMQv2"
   },
   "outputs": [
    {
     "name": "stdout",
     "output_type": "stream",
     "text": [
      "{'her', 'be', 'so', 'isn', \"you'll\", 'about', 'mustn', 't', 'having', 'd', 'of', 'will', 'has', 'against', 'we', 'you', 'under', 'up', 'ain', 'above', 'or', \"wasn't\", 'the', 'down', 'not', 'other', \"hadn't\", 'does', \"shan't\", 'no', 'here', 'how', 'in', 'didn', 'i', 'itself', 'then', 'why', 'it', 'had', \"won't\", 'own', 'some', \"didn't\", \"mustn't\", 'can', 'before', \"she's\", 'which', 'me', \"you're\", 'if', \"don't\", 'for', 'll', 'such', 'nor', \"that'll\", 'until', 'doing', \"aren't\", 'most', 'than', \"it's\", 'y', 'and', 's', 'but', 'into', 'is', 'from', 'theirs', 'your', 'were', 'being', 'whom', 'with', \"isn't\", 'them', 'shouldn', 'wouldn', 'over', 'are', 'all', 'while', 'at', 'between', 'now', 'yourself', 'am', 'that', 'through', 'shan', 'my', 'again', 'our', 'yours', 'he', 'by', 'each', 'hadn', \"you've\", 'should', \"weren't\", 'those', 'myself', 'do', 'mightn', \"needn't\", 'have', 'did', \"you'd\", 'm', 'doesn', 're', 'both', 'more', 'herself', 'themselves', 'because', 'on', 'when', 'haven', 'to', 'just', 've', 'she', \"wouldn't\", 'hers', 'was', 'same', 'hasn', 'during', 'himself', 'any', 'these', \"shouldn't\", \"doesn't\", 'ours', 'off', 'who', 'few', 'very', 'further', 'aren', 'below', 'ma', 'where', 'an', 'won', \"hasn't\", 'after', 'ourselves', 'what', 'out', 'only', 'there', 'too', 'a', 'its', 'don', \"should've\", \"haven't\", 'needn', 'they', 'wasn', 'his', \"mightn't\", 'once', \"couldn't\", 'o', 'him', 'yourselves', 'their', 'weren', 'couldn', 'been', 'this', 'as'}\n",
      "************************************\n",
      "tasti\n"
     ]
    }
   ],
   "source": [
    "\n",
    "stop = set(stopwords.words('english')) #set of stopwords\n",
    "sno = nltk.stem.SnowballStemmer('english') #initialising the snowball stemmer\n",
    "\n",
    "def cleanhtml(sentence): #function to clean the word of any html-tags\n",
    "    cleanr = re.compile('<.*?>')\n",
    "    cleantext = re.sub(cleanr, ' ', sentence)\n",
    "    return cleantext\n",
    "def cleanpunc(sentence): #function to clean the word of any punctuation or special characters\n",
    "    cleaned = re.sub(r'[?|!|\\'|\"|#]',r'',sentence)\n",
    "    cleaned = re.sub(r'[.|,|)|(|\\|/]',r' ',cleaned)\n",
    "    return  cleaned\n",
    "print(stop)\n",
    "print('************************************')\n",
    "print(sno.stem('tasty'))"
   ]
  },
  {
   "cell_type": "code",
   "execution_count": 15,
   "metadata": {
    "colab": {},
    "colab_type": "code",
    "id": "BUGzVaKbMQv5"
   },
   "outputs": [
    {
     "name": "stderr",
     "output_type": "stream",
     "text": [
      "100%|██████████| 393931/393931 [35:22<00:00, 185.59it/s]\n"
     ]
    }
   ],
   "source": [
    "#Code for implementing step-by-step the checks mentioned in the pre-processing phase\n",
    "# this code takes a while to run as it needs to run on 500k sentences.\n",
    "if not os.path.isfile('final.sqlite'):\n",
    "    final_string=[]\n",
    "    all_positive_words=[] # store words from +ve reviews here\n",
    "    all_negative_words=[] # store words from -ve reviews here.\n",
    "    all_neutral_words=[] # store words from neutralreviews here.\n",
    "    for i, sent in enumerate(tqdm(final['Text'].values)):\n",
    "        filtered_sentence=[]\n",
    "        #print(sent);\n",
    "        sent=cleanhtml(sent) # remove HTMl tags\n",
    "        for w in sent.split():\n",
    "            # we have used cleanpunc(w).split(), one more split function here because consider w=\"abc.def\", cleanpunc(w) will return \"abc def\"\n",
    "            # if we dont use .split() function then we will be considring \"abc def\" as a single word, but if you use .split() function we will get \"abc\", \"def\"\n",
    "            for cleaned_words in cleanpunc(w).split():\n",
    "                if((cleaned_words.isalpha()) & (len(cleaned_words)>2)):    \n",
    "                    if(cleaned_words.lower() not in stop):\n",
    "                        s=(sno.stem(cleaned_words.lower())).encode('utf8')\n",
    "                        filtered_sentence.append(s)\n",
    "                        if (final['Score'].values)[i] == 2: \n",
    "                            all_positive_words.append(s) #list of all words used to describe positive reviews\n",
    "                        if(final['Score'].values)[i] == 0:\n",
    "                            all_negative_words.append(s) #list of all words used to describe negative reviews reviews\n",
    "                        if(final['Score'].values)[i] == 1:\n",
    "                            all_neutral_words.append(s)\n",
    "        str1 = b\" \".join(filtered_sentence) #final string of cleaned words\n",
    "        #print(\"***********************************************************************\")\n",
    "        final_string.append(str1)\n",
    "\n",
    "    #############---- storing the data into .sqlite file ------########################\n",
    "    final['CleanedText']=final_string #adding a column of CleanedText which displays the data after pre-processing of the review \n",
    "    final['CleanedText']=final['CleanedText'].str.decode(\"utf-8\")\n",
    "        # store final table into an SQlLite table for future.\n",
    "    conn = sqlite3.connect('final.sqlite')\n",
    "    c=conn.cursor()\n",
    "    conn.text_factory = str\n",
    "    final.to_sql('Reviews', conn,  schema=None, if_exists='replace', \\\n",
    "                 index=True, index_label=None, chunksize=None, dtype=None)\n",
    "    conn.close()\n",
    "    \n",
    "    \n",
    "    with open('positive_words.pkl', 'wb') as f:\n",
    "        pickle.dump(all_positive_words, f)\n",
    "    with open('negitive_words.pkl', 'wb') as f:\n",
    "        pickle.dump(all_negative_words, f)\n",
    "    with open('neutral_words.pkl', 'wb') as f:\n",
    "        pickle.dump(all_neutral_words, f)"
   ]
  },
  {
   "cell_type": "code",
   "execution_count": null,
   "metadata": {
    "colab": {},
    "colab_type": "code",
    "id": "m2CNKWUDMQv8"
   },
   "outputs": [],
   "source": []
  },
  {
   "cell_type": "code",
   "execution_count": 16,
   "metadata": {
    "colab": {},
    "colab_type": "code",
    "id": "bU88yTG9MQv-",
    "scrolled": false
   },
   "outputs": [],
   "source": [
    "if os.path.isfile('final.sqlite'):\n",
    "    conn = sqlite3.connect('final.sqlite')\n",
    "    final = pd.read_sql_query(\"\"\" SELECT * FROM Reviews \"\"\", conn)\n",
    "    conn.close()\n",
    "else:\n",
    "    print(\"Please the above cell\")"
   ]
  },
  {
   "cell_type": "code",
   "execution_count": 17,
   "metadata": {},
   "outputs": [],
   "source": [
    "texts = list(final['CleanedText'])"
   ]
  },
  {
   "cell_type": "code",
   "execution_count": 18,
   "metadata": {},
   "outputs": [
    {
     "name": "stdout",
     "output_type": "stream",
     "text": [
      "<class 'list'>\n",
      "<class 'str'>\n",
      "393931\n"
     ]
    }
   ],
   "source": [
    "print(type(texts))\n",
    "print(type(texts[0]))\n",
    "print(len(texts))"
   ]
  },
  {
   "cell_type": "code",
   "execution_count": 19,
   "metadata": {},
   "outputs": [],
   "source": [
    "outfile3 = open(\"Texts.pkl\", \"wb\")\n",
    "pickle.dump(texts, outfile3)"
   ]
  },
  {
   "cell_type": "markdown",
   "metadata": {
    "colab_type": "text",
    "id": "hXA02Hw0MQv_"
   },
   "source": [
    "# [7.2.2] Bag of Words (BoW)"
   ]
  },
  {
   "cell_type": "code",
   "execution_count": 22,
   "metadata": {
    "colab": {},
    "colab_type": "code",
    "id": "giCwNM_rMQwA"
   },
   "outputs": [
    {
     "name": "stdout",
     "output_type": "stream",
     "text": [
      "the type of count vectorizer  <class 'scipy.sparse.csr.csr_matrix'>\n",
      "the shape of out text BOW vectorizer  (393931, 74578)\n",
      "the number of unique words  74578\n"
     ]
    }
   ],
   "source": [
    "#BoW\n",
    "count_vect = CountVectorizer() #in scikit-learn\n",
    "final_counts = count_vect.fit_transform(final['CleanedText'].values)\n",
    "print(\"the type of count vectorizer \",type(final_counts))\n",
    "print(\"the shape of out text BOW vectorizer \",final_counts.get_shape())\n",
    "print(\"the number of unique words \", final_counts.get_shape()[1])"
   ]
  },
  {
   "cell_type": "markdown",
   "metadata": {
    "colab_type": "text",
    "id": "0Zhvc5AMMQwD"
   },
   "source": [
    "## [7.2.4] Bi-Grams and n-Grams.\n",
    "\n",
    "**Motivation**\n",
    "\n",
    "Now that we have our list of words describing positive and negative reviews lets analyse them.<br>\n",
    "\n",
    "We begin analysis by getting the frequency distribution of the words as shown below"
   ]
  },
  {
   "cell_type": "code",
   "execution_count": 23,
   "metadata": {
    "colab": {},
    "colab_type": "code",
    "id": "dmhJ1DOlMQwD"
   },
   "outputs": [
    {
     "name": "stdout",
     "output_type": "stream",
     "text": [
      "Most Common Positive Words :  [(b'like', 139412), (b'tast', 129033), (b'good', 112759), (b'flavor', 109612), (b'love', 107349), (b'use', 103885), (b'great', 103865), (b'one', 96724), (b'product', 91031), (b'tri', 86786), (b'tea', 83885), (b'coffe', 78813), (b'make', 75105), (b'get', 72123), (b'food', 64800), (b'would', 55562), (b'time', 55264), (b'buy', 54196), (b'realli', 52713), (b'eat', 52001)]\n",
      "Most Common Negative Words :  [(b'tast', 34575), (b'like', 32324), (b'product', 28215), (b'one', 20563), (b'flavor', 19571), (b'would', 17971), (b'tri', 17752), (b'use', 15301), (b'good', 15041), (b'coffe', 14707), (b'get', 13786), (b'buy', 13751), (b'order', 12869), (b'food', 12754), (b'dont', 11877), (b'tea', 11662), (b'even', 11085), (b'box', 10843), (b'amazon', 10073), (b'make', 9839)]\n",
      "Most Common Neutral Words :  [(b'like', 20780), (b'tast', 20055), (b'flavor', 15951), (b'good', 13264), (b'product', 12218), (b'one', 11158), (b'would', 10924), (b'use', 10509), (b'coffe', 10239), (b'tri', 9623), (b'get', 8824), (b'tea', 8131), (b'much', 7365), (b'realli', 7016), (b'dont', 6998), (b'make', 6702), (b'buy', 6250), (b'food', 6228), (b'drink', 5959), (b'littl', 5794)]\n"
     ]
    }
   ],
   "source": [
    "with open('positive_words.pkl', 'rb') as f:\n",
    "    all_positive_words = pickle.load(f)\n",
    "with open('negitive_words.pkl', 'rb') as f:\n",
    "    all_negative_words = pickle.load(f)\n",
    "with open('neutral_words.pkl', 'rb') as f:\n",
    "    all_neutral_words = pickle.load(f)\n",
    "    \n",
    "freq_dist_positive=nltk.FreqDist(all_positive_words)\n",
    "freq_dist_negative=nltk.FreqDist(all_negative_words)\n",
    "freq_dist_neutral=nltk.FreqDist(all_neutral_words)\n",
    "print(\"Most Common Positive Words : \",freq_dist_positive.most_common(20))\n",
    "print(\"Most Common Negative Words : \",freq_dist_negative.most_common(20))\n",
    "print(\"Most Common Neutral Words : \",freq_dist_neutral.most_common(20))"
   ]
  },
  {
   "cell_type": "markdown",
   "metadata": {
    "colab_type": "text",
    "id": "UUrdD4vNMQwH"
   },
   "source": [
    "<b>Observation:-</b> From the above it can be seen that the most common positive and the negative words overlap for eg. 'like' could be used as 'not like' etc. <br>\n",
    "So, it is a good idea to consider pairs of consequent words (bi-grams) or q sequnce of n consecutive words (n-grams)"
   ]
  },
  {
   "cell_type": "code",
   "execution_count": 24,
   "metadata": {
    "colab": {},
    "colab_type": "code",
    "id": "7sDVOf4yMQwI"
   },
   "outputs": [
    {
     "name": "stdout",
     "output_type": "stream",
     "text": [
      "the type of count vectorizer  <class 'scipy.sparse.csr.csr_matrix'>\n",
      "the shape of out text BOW vectorizer  (393931, 3105031)\n",
      "the number of unique words including both unigrams and bigrams  3105031\n"
     ]
    }
   ],
   "source": [
    "#bi-gram, tri-gram and n-gram\n",
    "\n",
    "#removing stop words like \"not\" should be avoided before building n-grams\n",
    "count_vect = CountVectorizer(ngram_range=(1,2) ) #in scikit-learn\n",
    "final_bigram_counts = count_vect.fit_transform(final['CleanedText'].values)\n",
    "print(\"the type of count vectorizer \",type(final_bigram_counts))\n",
    "print(\"the shape of out text BOW vectorizer \",final_bigram_counts.get_shape())\n",
    "print(\"the number of unique words including both unigrams and bigrams \", final_bigram_counts.get_shape()[1])"
   ]
  },
  {
   "cell_type": "markdown",
   "metadata": {
    "colab_type": "text",
    "id": "hdx-Cb0AMQwM"
   },
   "source": [
    "# [7.2.5] TF-IDF"
   ]
  },
  {
   "cell_type": "code",
   "execution_count": 25,
   "metadata": {
    "colab": {},
    "colab_type": "code",
    "id": "P-EUwU9nMQwN"
   },
   "outputs": [
    {
     "name": "stdout",
     "output_type": "stream",
     "text": [
      "the type of count vectorizer  <class 'scipy.sparse.csr.csr_matrix'>\n",
      "the shape of out text TFIDF vectorizer  (393931, 3105031)\n",
      "the number of unique words including both unigrams and bigrams  3105031\n"
     ]
    }
   ],
   "source": [
    "tf_idf_vect = TfidfVectorizer(ngram_range=(1,2))\n",
    "final_tf_idf = tf_idf_vect.fit_transform(final['CleanedText'].values)\n",
    "print(\"the type of count vectorizer \",type(final_tf_idf))\n",
    "print(\"the shape of out text TFIDF vectorizer \",final_tf_idf.get_shape())\n",
    "print(\"the number of unique words including both unigrams and bigrams \", final_tf_idf.get_shape()[1])"
   ]
  },
  {
   "cell_type": "code",
   "execution_count": 26,
   "metadata": {
    "colab": {},
    "colab_type": "code",
    "id": "lOELCSqEMQwQ"
   },
   "outputs": [
    {
     "name": "stdout",
     "output_type": "stream",
     "text": [
      "some sample features(unique words in the corpus) ['anna make', 'anna never', 'anna nicol', 'anna one', 'anna orecciett', 'anna pappardell', 'anna pasta', 'anna pizza', 'anna power', 'anna save']\n"
     ]
    }
   ],
   "source": [
    "features = tf_idf_vect.get_feature_names()\n",
    "print(\"some sample features(unique words in the corpus)\",features[100000:100010])"
   ]
  },
  {
   "cell_type": "code",
   "execution_count": 27,
   "metadata": {
    "colab": {},
    "colab_type": "code",
    "id": "aRjaZzGdMQwT"
   },
   "outputs": [],
   "source": [
    "# source: https://buhrmann.github.io/tfidf-analysis.html\n",
    "def top_tfidf_feats(row, features, top_n=25):\n",
    "    ''' Get top n tfidf values in row and return them with their corresponding feature names.'''\n",
    "    topn_ids = np.argsort(row)[::-1][:top_n]\n",
    "    top_feats = [(features[i], row[i]) for i in topn_ids]\n",
    "    df = pd.DataFrame(top_feats)\n",
    "    df.columns = ['feature', 'tfidf']\n",
    "    return df\n",
    "\n",
    "top_tfidf = top_tfidf_feats(final_tf_idf[1,:].toarray()[0],features,25)"
   ]
  },
  {
   "cell_type": "code",
   "execution_count": 28,
   "metadata": {
    "colab": {},
    "colab_type": "code",
    "id": "ayhSkBo8MQwV"
   },
   "outputs": [
    {
     "data": {
      "text/html": [
       "<div>\n",
       "<style scoped>\n",
       "    .dataframe tbody tr th:only-of-type {\n",
       "        vertical-align: middle;\n",
       "    }\n",
       "\n",
       "    .dataframe tbody tr th {\n",
       "        vertical-align: top;\n",
       "    }\n",
       "\n",
       "    .dataframe thead th {\n",
       "        text-align: right;\n",
       "    }\n",
       "</style>\n",
       "<table border=\"1\" class=\"dataframe\">\n",
       "  <thead>\n",
       "    <tr style=\"text-align: right;\">\n",
       "      <th></th>\n",
       "      <th>feature</th>\n",
       "      <th>tfidf</th>\n",
       "    </tr>\n",
       "  </thead>\n",
       "  <tbody>\n",
       "    <tr>\n",
       "      <th>0</th>\n",
       "      <td>poem</td>\n",
       "      <td>0.383469</td>\n",
       "    </tr>\n",
       "    <tr>\n",
       "      <th>1</th>\n",
       "      <td>handmot invent</td>\n",
       "      <td>0.239689</td>\n",
       "    </tr>\n",
       "    <tr>\n",
       "      <th>2</th>\n",
       "      <td>poem throughout</td>\n",
       "      <td>0.239689</td>\n",
       "    </tr>\n",
       "    <tr>\n",
       "      <th>3</th>\n",
       "      <td>like handmot</td>\n",
       "      <td>0.239689</td>\n",
       "    </tr>\n",
       "    <tr>\n",
       "      <th>4</th>\n",
       "      <td>invent poem</td>\n",
       "      <td>0.239689</td>\n",
       "    </tr>\n",
       "    <tr>\n",
       "      <th>5</th>\n",
       "      <td>learn poem</td>\n",
       "      <td>0.239689</td>\n",
       "    </tr>\n",
       "    <tr>\n",
       "      <th>6</th>\n",
       "      <td>throughout school</td>\n",
       "      <td>0.239689</td>\n",
       "    </tr>\n",
       "    <tr>\n",
       "      <th>7</th>\n",
       "      <td>handmot</td>\n",
       "      <td>0.239689</td>\n",
       "    </tr>\n",
       "    <tr>\n",
       "      <th>8</th>\n",
       "      <td>way children</td>\n",
       "      <td>0.227094</td>\n",
       "    </tr>\n",
       "    <tr>\n",
       "      <th>9</th>\n",
       "      <td>learn month</td>\n",
       "      <td>0.227094</td>\n",
       "    </tr>\n",
       "    <tr>\n",
       "      <th>10</th>\n",
       "      <td>children learn</td>\n",
       "      <td>0.227094</td>\n",
       "    </tr>\n",
       "    <tr>\n",
       "      <th>11</th>\n",
       "      <td>learn</td>\n",
       "      <td>0.210149</td>\n",
       "    </tr>\n",
       "    <tr>\n",
       "      <th>12</th>\n",
       "      <td>year learn</td>\n",
       "      <td>0.198781</td>\n",
       "    </tr>\n",
       "    <tr>\n",
       "      <th>13</th>\n",
       "      <td>school year</td>\n",
       "      <td>0.183522</td>\n",
       "    </tr>\n",
       "    <tr>\n",
       "      <th>14</th>\n",
       "      <td>fun way</td>\n",
       "      <td>0.175085</td>\n",
       "    </tr>\n",
       "    <tr>\n",
       "      <th>15</th>\n",
       "      <td>month year</td>\n",
       "      <td>0.163422</td>\n",
       "    </tr>\n",
       "    <tr>\n",
       "      <th>16</th>\n",
       "      <td>year like</td>\n",
       "      <td>0.156469</td>\n",
       "    </tr>\n",
       "    <tr>\n",
       "      <th>17</th>\n",
       "      <td>invent</td>\n",
       "      <td>0.144586</td>\n",
       "    </tr>\n",
       "    <tr>\n",
       "      <th>18</th>\n",
       "      <td>year</td>\n",
       "      <td>0.124867</td>\n",
       "    </tr>\n",
       "    <tr>\n",
       "      <th>19</th>\n",
       "      <td>throughout</td>\n",
       "      <td>0.120767</td>\n",
       "    </tr>\n",
       "    <tr>\n",
       "      <th>20</th>\n",
       "      <td>school</td>\n",
       "      <td>0.112503</td>\n",
       "    </tr>\n",
       "    <tr>\n",
       "      <th>21</th>\n",
       "      <td>children</td>\n",
       "      <td>0.107612</td>\n",
       "    </tr>\n",
       "    <tr>\n",
       "      <th>22</th>\n",
       "      <td>fun</td>\n",
       "      <td>0.102683</td>\n",
       "    </tr>\n",
       "    <tr>\n",
       "      <th>23</th>\n",
       "      <td>month</td>\n",
       "      <td>0.073902</td>\n",
       "    </tr>\n",
       "    <tr>\n",
       "      <th>24</th>\n",
       "      <td>way</td>\n",
       "      <td>0.063799</td>\n",
       "    </tr>\n",
       "  </tbody>\n",
       "</table>\n",
       "</div>"
      ],
      "text/plain": [
       "              feature     tfidf\n",
       "0                poem  0.383469\n",
       "1      handmot invent  0.239689\n",
       "2     poem throughout  0.239689\n",
       "3        like handmot  0.239689\n",
       "4         invent poem  0.239689\n",
       "5          learn poem  0.239689\n",
       "6   throughout school  0.239689\n",
       "7             handmot  0.239689\n",
       "8        way children  0.227094\n",
       "9         learn month  0.227094\n",
       "10     children learn  0.227094\n",
       "11              learn  0.210149\n",
       "12         year learn  0.198781\n",
       "13        school year  0.183522\n",
       "14            fun way  0.175085\n",
       "15         month year  0.163422\n",
       "16          year like  0.156469\n",
       "17             invent  0.144586\n",
       "18               year  0.124867\n",
       "19         throughout  0.120767\n",
       "20             school  0.112503\n",
       "21           children  0.107612\n",
       "22                fun  0.102683\n",
       "23              month  0.073902\n",
       "24                way  0.063799"
      ]
     },
     "execution_count": 28,
     "metadata": {},
     "output_type": "execute_result"
    }
   ],
   "source": [
    "top_tfidf"
   ]
  },
  {
   "cell_type": "markdown",
   "metadata": {
    "colab_type": "text",
    "id": "FvLejEvqMQwY"
   },
   "source": [
    "# [7.2.6] Word2Vec"
   ]
  },
  {
   "cell_type": "code",
   "execution_count": 29,
   "metadata": {
    "colab": {},
    "colab_type": "code",
    "id": "3bh2VdnDMQwa",
    "scrolled": true
   },
   "outputs": [],
   "source": [
    "# Using Google News Word2Vectors\n",
    "\n",
    "# in this project we are using a pretrained model by google\n",
    "# its 3.3G file, once you load this into your memory \n",
    "# it occupies ~9Gb, so please do this step only if you have >12G of ram\n",
    "# we will provide a pickle file wich contains a dict , \n",
    "# and it contains all our courpus words as keys and  model[word] as values\n",
    "# To use this code-snippet, download \"GoogleNews-vectors-negative300.bin\" \n",
    "# from https://drive.google.com/file/d/0B7XkCwpI5KDYNlNUTTlSS21pQmM/edit\n",
    "# it's 1.9GB in size.\n",
    "\n",
    "\n",
    "# http://kavita-ganesan.com/gensim-word2vec-tutorial-starter-code/#.W17SRFAzZPY\n",
    "# you can comment this whole cell\n",
    "# or change these varible according to your need\n",
    "is_your_ram_gt_16g=False\n",
    "want_to_read_sub_set_of_google_w2v = True\n",
    "want_to_read_whole_google_w2v = True\n",
    "if not is_your_ram_gt_16g:\n",
    "    if want_to_read_sub_set_of_google_w2v and  os.path.isfile('google_w2v_for_amazon.pkl'):\n",
    "        with open('google_w2v_for_amazon.pkl', 'rb') as f:\n",
    "            # model is dict object, you can directly access any word vector using model[word]\n",
    "            model = pickle.load(f)\n",
    "else:\n",
    "    if want_to_read_whole_google_w2v and os.path.isfile('GoogleNews-vectors-negative300.bin'):\n",
    "        model = KeyedVectors.load_word2vec_format('GoogleNews-vectors-negative300.bin', binary=True)\n",
    "\n",
    "# print(\"the vector representation of word 'computer'\",model.wv['computer'])\n",
    "# print(\"the similarity between the words 'woman' and 'man'\",model.wv.similarity('woman', 'man'))\n",
    "# print(\"the most similar words to the word 'woman'\",model.wv.most_similar('woman'))\n",
    "# this will raise an error\n",
    "# model.wv.most_similar('tasti')  # \"tasti\" is the stemmed word for tasty, tastful"
   ]
  },
  {
   "cell_type": "code",
   "execution_count": 30,
   "metadata": {
    "colab": {},
    "colab_type": "code",
    "id": "xri0AfSJMQwe"
   },
   "outputs": [],
   "source": [
    "# Train your own Word2Vec model using your own text corpus\n",
    "i=0\n",
    "list_of_sent=[]\n",
    "for sent in final['CleanedText'].values:\n",
    "    list_of_sent.append(sent.split())"
   ]
  },
  {
   "cell_type": "code",
   "execution_count": 31,
   "metadata": {
    "colab": {},
    "colab_type": "code",
    "id": "eRUcB7DlMQwi"
   },
   "outputs": [
    {
     "name": "stdout",
     "output_type": "stream",
     "text": [
      "june saw charm group rose begin droop pep chicken soup sprinkl sprinkl twice sprinkl chicken soup rice great book teach children month year repetit phrase funni littl stori accompani pictur make ideal bedtim read isnt near good sendak book like wild thing boy didnt care still carri uniqu brand charm\n",
      "*****************************************************************\n",
      "['june', 'saw', 'charm', 'group', 'rose', 'begin', 'droop', 'pep', 'chicken', 'soup', 'sprinkl', 'sprinkl', 'twice', 'sprinkl', 'chicken', 'soup', 'rice', 'great', 'book', 'teach', 'children', 'month', 'year', 'repetit', 'phrase', 'funni', 'littl', 'stori', 'accompani', 'pictur', 'make', 'ideal', 'bedtim', 'read', 'isnt', 'near', 'good', 'sendak', 'book', 'like', 'wild', 'thing', 'boy', 'didnt', 'care', 'still', 'carri', 'uniqu', 'brand', 'charm']\n"
     ]
    }
   ],
   "source": [
    "print(final['CleanedText'].values[0])\n",
    "print(\"*****************************************************************\")\n",
    "print(list_of_sent[0])"
   ]
  },
  {
   "cell_type": "code",
   "execution_count": 32,
   "metadata": {
    "colab": {},
    "colab_type": "code",
    "id": "xA_ZepwsMQwl"
   },
   "outputs": [],
   "source": [
    "# min_count = 5 considers only words that occured atleast 5 times\n",
    "w2v_model=Word2Vec(list_of_sent,min_count=5,size=50, workers=4)"
   ]
  },
  {
   "cell_type": "code",
   "execution_count": 33,
   "metadata": {
    "colab": {},
    "colab_type": "code",
    "id": "as5kes83MQwn"
   },
   "outputs": [
    {
     "name": "stdout",
     "output_type": "stream",
     "text": [
      "number of words that occured minimum 5 times  22816\n",
      "sample words  ['sempio', 'poodl', 'rotor', 'separat', 'unawar', 'bobbi', 'tet', 'schmaltz', 'linolen', 'poser', 'manx', 'development', 'organg', 'botan', 'sluggish', 'loveem', 'grouchi', 'octagon', 'left', 'coffemak', 'lebkuchen', 'romanoff', 'newport', 'anywho', 'mightv', 'shant', 'polan', 'panthothen', 'behav', 'protrud', 'fod', 'spaghettini', 'gabriel', 'iherb', 'keiller', 'gratif', 'girli', 'telma', 'fed', 'assert', 'bernard', 'tblsp', 'chanterell', 'molino', 'melba', 'peppi', 'pistachio', 'miser', 'sweater', 'teekann']\n"
     ]
    }
   ],
   "source": [
    "w2v_words = list(w2v_model.wv.vocab)\n",
    "print(\"number of words that occured minimum 5 times \",len(w2v_words))\n",
    "print(\"sample words \", w2v_words[0:50])"
   ]
  },
  {
   "cell_type": "code",
   "execution_count": 34,
   "metadata": {
    "colab": {},
    "colab_type": "code",
    "id": "X1EVyAnEMQwo"
   },
   "outputs": [
    {
     "data": {
      "text/plain": [
       "[('delici', 0.7940857410430908),\n",
       " ('yummi', 0.7803266048431396),\n",
       " ('tastey', 0.7368853092193604),\n",
       " ('satisfi', 0.7012151479721069),\n",
       " ('good', 0.6943483352661133),\n",
       " ('nice', 0.6585299968719482),\n",
       " ('hearti', 0.6498652696609497),\n",
       " ('nutriti', 0.6358836889266968),\n",
       " ('delish', 0.6356318593025208),\n",
       " ('terrif', 0.6280478239059448)]"
      ]
     },
     "execution_count": 34,
     "metadata": {},
     "output_type": "execute_result"
    }
   ],
   "source": [
    "w2v_model.wv.most_similar('tasti')"
   ]
  },
  {
   "cell_type": "code",
   "execution_count": 35,
   "metadata": {
    "colab": {},
    "colab_type": "code",
    "id": "WeKWZN4eMQws"
   },
   "outputs": [
    {
     "data": {
      "text/plain": [
       "[('alright', 0.7377765774726868),\n",
       " ('weird', 0.7306230068206787),\n",
       " ('okay', 0.710498034954071),\n",
       " ('dislik', 0.6959275007247925),\n",
       " ('prefer', 0.6855043768882751),\n",
       " ('yucki', 0.6683098673820496),\n",
       " ('appeal', 0.6676250696182251),\n",
       " ('remind', 0.6500131487846375),\n",
       " ('funki', 0.6476739645004272),\n",
       " ('resembl', 0.6432019472122192)]"
      ]
     },
     "execution_count": 35,
     "metadata": {},
     "output_type": "execute_result"
    }
   ],
   "source": [
    "w2v_model.wv.most_similar('like')"
   ]
  },
  {
   "cell_type": "markdown",
   "metadata": {
    "colab_type": "text",
    "id": "V1eebHVHMQwv"
   },
   "source": [
    "# [7.2.7] Avg W2V, TFIDF-W2V"
   ]
  },
  {
   "cell_type": "code",
   "execution_count": 36,
   "metadata": {
    "colab": {},
    "colab_type": "code",
    "id": "TMrT0BciMQww"
   },
   "outputs": [
    {
     "name": "stderr",
     "output_type": "stream",
     "text": [
      "\n",
      "\n",
      "  0%|          | 0/393931 [00:00<?, ?it/s]\u001b[A\u001b[A\n",
      "\n",
      "  0%|          | 1/393931 [00:00<15:32:22,  7.04it/s]\u001b[A\u001b[A\n",
      "\n",
      "  0%|          | 3/393931 [00:00<13:04:58,  8.36it/s]\u001b[A\u001b[A\n",
      "\n",
      "  0%|          | 5/393931 [00:00<11:14:34,  9.73it/s]\u001b[A\u001b[A\n",
      "\n",
      "  0%|          | 7/393931 [00:00<11:29:40,  9.52it/s]\u001b[A\u001b[A\n",
      "\n",
      "  0%|          | 8/393931 [00:00<11:48:17,  9.27it/s]\u001b[A\u001b[A\n",
      "\n",
      "  0%|          | 10/393931 [00:00<11:09:16,  9.81it/s]\u001b[A\u001b[A\n",
      "\n",
      "  0%|          | 11/393931 [00:01<12:55:30,  8.47it/s]\u001b[A\u001b[A\n",
      "\n",
      "  0%|          | 12/393931 [00:01<14:27:38,  7.57it/s]\u001b[A\u001b[A\n",
      "\n",
      "  0%|          | 13/393931 [00:01<13:30:42,  8.10it/s]\u001b[A\u001b[A\n",
      "\n",
      "  0%|          | 14/393931 [00:01<15:27:19,  7.08it/s]\u001b[A\u001b[A\n",
      "\n",
      "  0%|          | 15/393931 [00:02<39:14:14,  2.79it/s]\u001b[A\u001b[A\n",
      "\n",
      "  0%|          | 17/393931 [00:02<31:26:48,  3.48it/s]\u001b[A\u001b[A\n",
      "\n",
      "  0%|          | 18/393931 [00:02<25:51:45,  4.23it/s]\u001b[A\u001b[A\n",
      "\n",
      "  0%|          | 19/393931 [00:02<23:00:37,  4.76it/s]\u001b[A\u001b[A\n",
      "\n",
      "  0%|          | 20/393931 [00:03<20:12:38,  5.41it/s]\u001b[A\u001b[A\n",
      "\n",
      "  0%|          | 22/393931 [00:03<17:08:19,  6.38it/s]\u001b[A\u001b[A\n",
      "\n",
      "  0%|          | 24/393931 [00:03<15:34:46,  7.02it/s]\u001b[A\u001b[A\n",
      "\n",
      "  0%|          | 25/393931 [00:03<15:47:39,  6.93it/s]\u001b[A\u001b[A\n",
      "\n",
      "  0%|          | 26/393931 [00:03<14:31:35,  7.53it/s]\u001b[A\u001b[A\n",
      "\n",
      "  0%|          | 27/393931 [00:03<16:14:17,  6.74it/s]\u001b[A\u001b[A\n",
      "\n",
      "  0%|          | 29/393931 [00:04<16:40:17,  6.56it/s]\u001b[A\u001b[A\n",
      "\n",
      "  0%|          | 30/393931 [00:04<16:43:26,  6.54it/s]\u001b[A\u001b[A\n",
      "\n",
      "  0%|          | 31/393931 [00:04<16:01:36,  6.83it/s]\u001b[A\u001b[A\n",
      "\n",
      "  0%|          | 34/393931 [00:04<12:51:13,  8.51it/s]\u001b[A\u001b[A\n",
      "\n",
      "  0%|          | 37/393931 [00:04<10:38:26, 10.28it/s]\u001b[A\u001b[A\n",
      "\n",
      "  0%|          | 39/393931 [00:04<10:14:30, 10.68it/s]\u001b[A\u001b[A\n",
      "\n",
      "  0%|          | 41/393931 [00:05<9:34:10, 11.43it/s] \u001b[A\u001b[A\n",
      "\n",
      "  0%|          | 43/393931 [00:05<10:24:15, 10.52it/s]\u001b[A\u001b[A\n",
      "\n",
      "  0%|          | 45/393931 [00:05<9:43:55, 11.24it/s] \u001b[A\u001b[A\n",
      "\n",
      "  0%|          | 47/393931 [00:05<10:06:18, 10.83it/s]\u001b[A\u001b[A\n",
      "\n",
      "  0%|          | 49/393931 [00:05<12:17:07,  8.91it/s]\u001b[A\u001b[A\n",
      "\n",
      "  0%|          | 51/393931 [00:06<11:45:26,  9.31it/s]\u001b[A\u001b[A\n",
      "\n",
      "  0%|          | 53/393931 [00:06<13:58:30,  7.83it/s]\u001b[A\u001b[A\n",
      "\n",
      "  0%|          | 54/393931 [00:06<19:57:17,  5.48it/s]\u001b[A\u001b[A\n",
      "\n",
      "  0%|          | 55/393931 [00:06<17:17:50,  6.33it/s]\u001b[A\u001b[A\n",
      "\n",
      "  0%|          | 56/393931 [00:07<18:22:41,  5.95it/s]\u001b[A\u001b[A\n",
      "\n",
      "  0%|          | 57/393931 [00:07<16:37:04,  6.58it/s]\u001b[A\u001b[A\n",
      "\n",
      "  0%|          | 59/393931 [00:07<13:42:07,  7.98it/s]\u001b[A\u001b[A\n",
      "\n",
      "  0%|          | 61/393931 [00:07<12:20:19,  8.87it/s]\u001b[A\u001b[A\n",
      "\n",
      "  0%|          | 63/393931 [00:08<18:16:49,  5.98it/s]\u001b[A\u001b[A\n",
      "\n",
      "  0%|          | 64/393931 [00:08<21:29:49,  5.09it/s]\u001b[A\u001b[A\n",
      "\n",
      "  0%|          | 65/393931 [00:08<21:54:02,  5.00it/s]\u001b[A\u001b[A\n",
      "\n",
      "  0%|          | 66/393931 [00:08<24:05:57,  4.54it/s]\u001b[A\u001b[A\n",
      "\n",
      "  0%|          | 67/393931 [00:08<20:36:28,  5.31it/s]\u001b[A\u001b[A\n",
      "\n",
      "  0%|          | 69/393931 [00:09<20:37:30,  5.30it/s]\u001b[A\u001b[A\n",
      "\n",
      "  0%|          | 71/393931 [00:09<17:36:52,  6.21it/s]\u001b[A\u001b[A\n",
      "\n",
      "  0%|          | 72/393931 [00:09<18:43:01,  5.85it/s]\u001b[A\u001b[A\n",
      "\n",
      "  0%|          | 74/393931 [00:09<14:55:31,  7.33it/s]\u001b[A\u001b[A\n",
      "\n",
      "  0%|          | 76/393931 [00:10<15:45:56,  6.94it/s]\u001b[A\u001b[A\n",
      "\n",
      "  0%|          | 78/393931 [00:10<15:24:01,  7.10it/s]\u001b[A\u001b[A\n",
      "\n",
      "  0%|          | 79/393931 [00:10<16:12:54,  6.75it/s]\u001b[A\u001b[A\n",
      "\n",
      "  0%|          | 81/393931 [00:10<13:50:22,  7.91it/s]\u001b[A\u001b[A\n",
      "\n",
      "  0%|          | 84/393931 [00:10<11:06:19,  9.85it/s]\u001b[A\u001b[A\n",
      "\n",
      "  0%|          | 86/393931 [00:11<10:42:19, 10.22it/s]\u001b[A\u001b[A\n",
      "\n",
      "  0%|          | 88/393931 [00:11<9:57:27, 10.99it/s] \u001b[A\u001b[A\n",
      "\n",
      "  0%|          | 90/393931 [00:11<16:23:54,  6.67it/s]\u001b[A\u001b[A\n",
      "\n",
      "  0%|          | 92/393931 [00:11<14:04:39,  7.77it/s]\u001b[A\u001b[A\n",
      "\n",
      "  0%|          | 94/393931 [00:12<12:29:36,  8.76it/s]\u001b[A\u001b[A\n",
      "\n",
      "  0%|          | 96/393931 [00:12<11:28:07,  9.54it/s]\u001b[A\u001b[A\n",
      "\n",
      "  0%|          | 98/393931 [00:12<14:59:45,  7.30it/s]\u001b[A\u001b[A\n",
      "\n",
      "  0%|          | 100/393931 [00:12<12:58:42,  8.43it/s]\u001b[A\u001b[A\n",
      "\n",
      "  0%|          | 102/393931 [00:13<18:06:39,  6.04it/s]\u001b[A\u001b[A\n",
      "\n",
      "  0%|          | 104/393931 [00:13<15:34:16,  7.03it/s]\u001b[A\u001b[A\n",
      "\n",
      "  0%|          | 105/393931 [00:13<14:15:07,  7.68it/s]\u001b[A\u001b[A\n",
      "\n",
      "  0%|          | 106/393931 [00:13<13:34:30,  8.06it/s]\u001b[A\u001b[A\n",
      "\n",
      "  0%|          | 107/393931 [00:13<13:53:08,  7.88it/s]\u001b[A\u001b[A\n",
      "\n",
      "  0%|          | 110/393931 [00:14<11:24:21,  9.59it/s]\u001b[A\u001b[A\n",
      "\n",
      "  0%|          | 112/393931 [00:14<15:38:04,  7.00it/s]\u001b[A\u001b[A\n",
      "\n",
      "  0%|          | 115/393931 [00:14<12:44:18,  8.59it/s]\u001b[A\u001b[A\n",
      "\n",
      "  0%|          | 117/393931 [00:15<14:06:21,  7.76it/s]\u001b[A\u001b[A\n",
      "\n",
      "  0%|          | 120/393931 [00:15<11:39:30,  9.38it/s]\u001b[A\u001b[A\n",
      "\n",
      "  0%|          | 122/393931 [00:15<11:50:19,  9.24it/s]\u001b[A\u001b[A\n",
      "\n",
      "  0%|          | 124/393931 [00:15<14:20:35,  7.63it/s]\u001b[A\u001b[A\n",
      "\n",
      "  0%|          | 127/393931 [00:15<11:32:28,  9.48it/s]\u001b[A\u001b[A\n",
      "\n",
      "  0%|          | 129/393931 [00:16<11:31:32,  9.49it/s]\u001b[A\u001b[A\n",
      "\n",
      "  0%|          | 131/393931 [00:16<10:20:56, 10.57it/s]\u001b[A\u001b[A\n",
      "\n",
      "  0%|          | 134/393931 [00:16<8:54:16, 12.28it/s] \u001b[A\u001b[A\n",
      "\n",
      "  0%|          | 136/393931 [00:16<11:44:57,  9.31it/s]\u001b[A\u001b[A\n",
      "\n",
      "  0%|          | 138/393931 [00:16<10:45:44, 10.16it/s]\u001b[A\u001b[A\n",
      "\n",
      "  0%|          | 140/393931 [00:17<9:57:57, 10.98it/s] \u001b[A\u001b[A\n",
      "\n",
      "  0%|          | 142/393931 [00:17<10:39:58, 10.26it/s]\u001b[A\u001b[A\n",
      "\n",
      "  0%|          | 144/393931 [00:17<11:27:13,  9.55it/s]\u001b[A\u001b[A\n",
      "\n",
      "  0%|          | 146/393931 [00:17<9:54:49, 11.03it/s] \u001b[A\u001b[A\n",
      "\n",
      "  0%|          | 148/393931 [00:17<12:34:11,  8.70it/s]\u001b[A\u001b[A\n",
      "\n",
      "  0%|          | 150/393931 [00:18<12:34:50,  8.69it/s]\u001b[A\u001b[A\n",
      "\n",
      "  0%|          | 152/393931 [00:18<11:34:20,  9.45it/s]\u001b[A\u001b[A\n",
      "\n",
      "  0%|          | 154/393931 [00:18<15:08:12,  7.23it/s]\u001b[A\u001b[A\n",
      "\n",
      "  0%|          | 155/393931 [00:18<15:33:26,  7.03it/s]\u001b[A\u001b[A\n",
      "\n",
      "  0%|          | 158/393931 [00:19<12:27:11,  8.78it/s]\u001b[A\u001b[A\n",
      "\n",
      "  0%|          | 160/393931 [00:19<12:03:35,  9.07it/s]\u001b[A\u001b[A\n",
      "\n",
      "  0%|          | 162/393931 [00:19<11:22:50,  9.61it/s]\u001b[A\u001b[A\n",
      "\n",
      "  0%|          | 165/393931 [00:19<9:25:30, 11.60it/s] \u001b[A\u001b[A\n",
      "\n",
      "  0%|          | 167/393931 [00:19<9:22:45, 11.66it/s]\u001b[A\u001b[A\n",
      "\n",
      "  0%|          | 169/393931 [00:19<9:11:30, 11.90it/s]\u001b[A\u001b[A\n",
      "\n",
      "  0%|          | 171/393931 [00:20<10:29:32, 10.42it/s]\u001b[A\u001b[A\n",
      "\n",
      "  0%|          | 173/393931 [00:20<12:10:13,  8.99it/s]\u001b[A\u001b[A\n",
      "\n",
      "  0%|          | 175/393931 [00:20<11:19:40,  9.66it/s]\u001b[A\u001b[A\n",
      "\n",
      "  0%|          | 177/393931 [00:20<10:15:07, 10.67it/s]\u001b[A\u001b[A\n",
      "\n",
      "  0%|          | 179/393931 [00:20<9:31:57, 11.47it/s] \u001b[A\u001b[A\n",
      "\n",
      "  0%|          | 181/393931 [00:21<9:15:27, 11.81it/s]\u001b[A\u001b[A\n",
      "\n",
      "  0%|          | 183/393931 [00:21<9:57:55, 10.98it/s]\u001b[A\u001b[A\n",
      "\n",
      "  0%|          | 185/393931 [00:21<13:50:29,  7.90it/s]\u001b[A\u001b[A\n",
      "\n",
      "  0%|          | 187/393931 [00:21<11:23:52,  9.60it/s]\u001b[A\u001b[A\n",
      "\n",
      "  0%|          | 189/393931 [00:22<14:48:48,  7.38it/s]\u001b[A\u001b[A\n",
      "\n",
      "  0%|          | 192/393931 [00:22<11:49:08,  9.25it/s]\u001b[A\u001b[A\n",
      "\n",
      "  0%|          | 194/393931 [00:22<11:23:41,  9.60it/s]\u001b[A\u001b[A\n",
      "\n",
      "  0%|          | 196/393931 [00:22<13:04:03,  8.37it/s]\u001b[A\u001b[A\n",
      "\n",
      "  0%|          | 199/393931 [00:23<11:34:35,  9.45it/s]\u001b[A\u001b[A\n",
      "\n",
      "  0%|          | 201/393931 [00:23<11:22:44,  9.61it/s]\u001b[A\u001b[A\n",
      "\n",
      "  0%|          | 204/393931 [00:23<10:15:47, 10.66it/s]\u001b[A\u001b[A\n",
      "\n",
      "  0%|          | 206/393931 [00:23<12:11:10,  8.97it/s]\u001b[A\u001b[A\n",
      "\n",
      "  0%|          | 208/393931 [00:24<11:17:23,  9.69it/s]\u001b[A\u001b[A\n",
      "\n",
      "  0%|          | 210/393931 [00:24<9:46:23, 11.19it/s] \u001b[A\u001b[A\n",
      "\n",
      "  0%|          | 212/393931 [00:24<9:16:59, 11.78it/s]\u001b[A\u001b[A\n",
      "\n",
      "  0%|          | 214/393931 [00:24<9:05:23, 12.03it/s]\u001b[A\u001b[A\n",
      "\n",
      "  0%|          | 216/393931 [00:24<9:33:14, 11.45it/s]\u001b[A\u001b[A\n",
      "\n",
      "  0%|          | 218/393931 [00:24<12:51:23,  8.51it/s]\u001b[A\u001b[A\n",
      "\n",
      "  0%|          | 220/393931 [00:25<15:09:17,  7.22it/s]\u001b[A\u001b[A\n",
      "\n",
      "  0%|          | 222/393931 [00:25<13:02:33,  8.38it/s]\u001b[A\u001b[A\n",
      "\n",
      "  0%|          | 224/393931 [00:25<11:54:36,  9.18it/s]\u001b[A\u001b[A\n",
      "\n",
      "  0%|          | 227/393931 [00:25<9:31:21, 11.48it/s] \u001b[A\u001b[A\n",
      "\n",
      "  0%|          | 229/393931 [00:26<10:25:40, 10.49it/s]\u001b[A\u001b[A\n",
      "\n",
      "  0%|          | 231/393931 [00:26<11:50:05,  9.24it/s]\u001b[A\u001b[A\n",
      "\n",
      "  0%|          | 233/393931 [00:26<12:26:21,  8.79it/s]\u001b[A\u001b[A\n",
      "\n",
      "  0%|          | 235/393931 [00:26<14:45:43,  7.41it/s]\u001b[A\u001b[A\n",
      "\n",
      "  0%|          | 236/393931 [00:27<15:55:02,  6.87it/s]\u001b[A\u001b[A\n",
      "\n",
      "  0%|          | 238/393931 [00:27<13:11:13,  8.29it/s]\u001b[A\u001b[A\n",
      "\n",
      "  0%|          | 240/393931 [00:27<13:43:34,  7.97it/s]\u001b[A\u001b[A\n",
      "\n",
      "  0%|          | 241/393931 [00:27<16:06:33,  6.79it/s]\u001b[A\u001b[A\n",
      "\n",
      "  0%|          | 242/393931 [00:27<17:28:43,  6.26it/s]\u001b[A\u001b[A\n",
      "\n",
      "  0%|          | 243/393931 [00:28<17:01:14,  6.42it/s]\u001b[A\u001b[A\n",
      "\n",
      "  0%|          | 245/393931 [00:28<15:03:47,  7.26it/s]\u001b[A\u001b[A\n",
      "\n",
      "  0%|          | 246/393931 [00:28<14:50:25,  7.37it/s]\u001b[A\u001b[A\n",
      "\n",
      "  0%|          | 248/393931 [00:28<12:24:09,  8.82it/s]\u001b[A\u001b[A\n",
      "\n",
      "  0%|          | 250/393931 [00:28<10:43:26, 10.20it/s]\u001b[A\u001b[A\n",
      "\n",
      "  0%|          | 252/393931 [00:29<15:22:38,  7.11it/s]\u001b[A\u001b[A\n",
      "\n",
      "  0%|          | 255/393931 [00:29<13:11:26,  8.29it/s]\u001b[A\u001b[A\n",
      "\n",
      "  0%|          | 257/393931 [00:29<10:59:26,  9.95it/s]\u001b[A\u001b[A\n",
      "\n",
      "  0%|          | 259/393931 [00:29<10:30:39, 10.40it/s]\u001b[A\u001b[A\n",
      "\n",
      "  0%|          | 261/393931 [00:29<9:21:20, 11.69it/s] \u001b[A\u001b[A\n",
      "\n",
      "  0%|          | 263/393931 [00:30<19:08:38,  5.71it/s]\u001b[A\u001b[A\n",
      "\n",
      "  0%|          | 265/393931 [00:30<16:17:45,  6.71it/s]\u001b[A\u001b[A\n",
      "\n",
      "  0%|          | 267/393931 [00:30<16:49:51,  6.50it/s]\u001b[A\u001b[A\n",
      "\n",
      "  0%|          | 268/393931 [00:31<15:28:53,  7.06it/s]\u001b[A\u001b[A\n",
      "\n",
      "  0%|          | 270/393931 [00:31<13:22:34,  8.17it/s]\u001b[A\u001b[A\n",
      "\n",
      "  0%|          | 272/393931 [00:31<15:59:14,  6.84it/s]\u001b[A\u001b[A\n",
      "\n",
      "  0%|          | 274/393931 [00:31<13:48:19,  7.92it/s]\u001b[A\u001b[A\n",
      "\n",
      "  0%|          | 275/393931 [00:32<18:04:15,  6.05it/s]\u001b[A\u001b[A\n",
      "\n",
      "  0%|          | 277/393931 [00:32<18:19:07,  5.97it/s]\u001b[A\u001b[A\n",
      "\n",
      "  0%|          | 280/393931 [00:32<14:17:23,  7.65it/s]\u001b[A\u001b[A\n",
      "\n",
      "  0%|          | 282/393931 [00:32<11:56:58,  9.15it/s]\u001b[A\u001b[A\n",
      "\n",
      "  0%|          | 285/393931 [00:33<12:48:17,  8.54it/s]\u001b[A\u001b[A\n",
      "\n",
      "  0%|          | 287/393931 [00:33<19:22:48,  5.64it/s]\u001b[A\u001b[A\n",
      "\n",
      "  0%|          | 289/393931 [00:33<17:20:02,  6.31it/s]\u001b[A\u001b[A\n",
      "\n",
      "  0%|          | 290/393931 [00:34<23:05:52,  4.73it/s]\u001b[A\u001b[A\n",
      "\n",
      "  0%|          | 292/393931 [00:34<21:59:47,  4.97it/s]\u001b[A\u001b[A\n",
      "\n",
      "  0%|          | 293/393931 [00:35<40:11:53,  2.72it/s]\u001b[A\u001b[A\n",
      "\n",
      "  0%|          | 295/393931 [00:35<31:48:19,  3.44it/s]\u001b[A\u001b[A\n",
      "\n",
      "  0%|          | 297/393931 [00:36<30:03:57,  3.64it/s]\u001b[A\u001b[A\n",
      "\n",
      "  0%|          | 298/393931 [00:36<30:26:13,  3.59it/s]\u001b[A\u001b[A\n",
      "\n",
      "  0%|          | 299/393931 [00:36<33:24:31,  3.27it/s]\u001b[A\u001b[A\n",
      "\n",
      "  0%|          | 300/393931 [00:36<30:44:04,  3.56it/s]\u001b[A\u001b[A\n",
      "\n",
      "  0%|          | 302/393931 [00:37<24:07:02,  4.53it/s]\u001b[A\u001b[A\n",
      "\n",
      "  0%|          | 304/393931 [00:37<21:07:11,  5.18it/s]\u001b[A\u001b[A\n",
      "\n",
      "  0%|          | 305/393931 [00:37<27:30:24,  3.98it/s]\u001b[A\u001b[A\n",
      "\n",
      "  0%|          | 308/393931 [00:37<20:26:29,  5.35it/s]\u001b[A\u001b[A\n",
      "\n",
      "  0%|          | 310/393931 [00:37<16:15:43,  6.72it/s]\u001b[A\u001b[A\n",
      "\n",
      "  0%|          | 312/393931 [00:38<14:19:46,  7.63it/s]\u001b[A\u001b[A\n",
      "\n",
      "  0%|          | 314/393931 [00:39<33:08:56,  3.30it/s]\u001b[A\u001b[A\n",
      "\n",
      "  0%|          | 316/393931 [00:39<25:40:06,  4.26it/s]\u001b[A\u001b[A\n",
      "\n",
      "  0%|          | 318/393931 [00:40<34:38:48,  3.16it/s]\u001b[A\u001b[A\n",
      "\n",
      "  0%|          | 319/393931 [00:40<27:36:26,  3.96it/s]\u001b[A\u001b[A\n",
      "\n",
      "  0%|          | 320/393931 [00:41<31:06:34,  3.51it/s]\u001b[A\u001b[A\n",
      "\n",
      "  0%|          | 321/393931 [00:41<29:11:08,  3.75it/s]\u001b[A\u001b[A\n",
      "\n",
      "  0%|          | 322/393931 [00:41<34:58:03,  3.13it/s]\u001b[A\u001b[A\n",
      "\n",
      "  0%|          | 323/393931 [00:42<39:00:49,  2.80it/s]\u001b[A\u001b[A\n",
      "\n",
      "  0%|          | 324/393931 [00:43<73:39:37,  1.48it/s]\u001b[A\u001b[A\n",
      "\n",
      "  0%|          | 325/393931 [00:43<59:40:22,  1.83it/s]\u001b[A\u001b[A\n",
      "\n",
      "  0%|          | 326/393931 [00:44<45:59:07,  2.38it/s]\u001b[A\u001b[A\n",
      "\n",
      "  0%|          | 328/393931 [00:44<35:27:18,  3.08it/s]\u001b[A\u001b[A\n",
      "\n",
      "  0%|          | 329/393931 [00:44<32:36:03,  3.35it/s]\u001b[A\u001b[A\n",
      "\n",
      "  0%|          | 330/393931 [00:44<31:07:16,  3.51it/s]\u001b[A\u001b[A\n",
      "\n",
      "  0%|          | 331/393931 [00:44<28:04:59,  3.89it/s]\u001b[A\u001b[A\n",
      "\n",
      "  0%|          | 332/393931 [00:45<25:03:49,  4.36it/s]\u001b[A\u001b[A\n",
      "\n",
      "  0%|          | 334/393931 [00:45<19:49:12,  5.52it/s]\u001b[A\u001b[A\n",
      "\n",
      "  0%|          | 335/393931 [00:45<18:59:25,  5.76it/s]\u001b[A\u001b[A\n",
      "\n",
      "  0%|          | 336/393931 [00:45<26:51:56,  4.07it/s]\u001b[A\u001b[A"
     ]
    },
    {
     "ename": "KeyboardInterrupt",
     "evalue": "",
     "output_type": "error",
     "traceback": [
      "\u001b[0;31m---------------------------------------------------------------------------\u001b[0m",
      "\u001b[0;31mKeyboardInterrupt\u001b[0m                         Traceback (most recent call last)",
      "\u001b[0;32m<ipython-input-36-471e441dc37c>\u001b[0m in \u001b[0;36m<module>\u001b[0;34m()\u001b[0m\n\u001b[1;32m      6\u001b[0m     \u001b[0mcnt_words\u001b[0m \u001b[0;34m=\u001b[0m\u001b[0;36m0\u001b[0m\u001b[0;34m;\u001b[0m \u001b[0;31m# num of words with a valid vector in the sentence/review\u001b[0m\u001b[0;34m\u001b[0m\u001b[0m\n\u001b[1;32m      7\u001b[0m     \u001b[0;32mfor\u001b[0m \u001b[0mword\u001b[0m \u001b[0;32min\u001b[0m \u001b[0msent\u001b[0m\u001b[0;34m:\u001b[0m \u001b[0;31m# for each word in a review/sentence\u001b[0m\u001b[0;34m\u001b[0m\u001b[0m\n\u001b[0;32m----> 8\u001b[0;31m         \u001b[0;32mif\u001b[0m \u001b[0mword\u001b[0m \u001b[0;32min\u001b[0m \u001b[0mw2v_words\u001b[0m\u001b[0;34m:\u001b[0m\u001b[0;34m\u001b[0m\u001b[0m\n\u001b[0m\u001b[1;32m      9\u001b[0m             \u001b[0mvec\u001b[0m \u001b[0;34m=\u001b[0m \u001b[0mw2v_model\u001b[0m\u001b[0;34m.\u001b[0m\u001b[0mwv\u001b[0m\u001b[0;34m[\u001b[0m\u001b[0mword\u001b[0m\u001b[0;34m]\u001b[0m\u001b[0;34m\u001b[0m\u001b[0m\n\u001b[1;32m     10\u001b[0m             \u001b[0msent_vec\u001b[0m \u001b[0;34m+=\u001b[0m \u001b[0mvec\u001b[0m\u001b[0;34m\u001b[0m\u001b[0m\n",
      "\u001b[0;31mKeyboardInterrupt\u001b[0m: "
     ]
    }
   ],
   "source": [
    "# average Word2Vec\n",
    "# compute average word2vec for each review.\n",
    "sent_vectors = []; # the avg-w2v for each sentence/review is stored in this list\n",
    "for sent in tqdm(list_of_sent): # for each review/sentence\n",
    "    sent_vec = np.zeros(50) # as word vectors are of zero length\n",
    "    cnt_words =0; # num of words with a valid vector in the sentence/review\n",
    "    for word in sent: # for each word in a review/sentence\n",
    "        if word in w2v_words:\n",
    "            vec = w2v_model.wv[word]\n",
    "            sent_vec += vec\n",
    "            cnt_words += 1\n",
    "    if cnt_words != 0:\n",
    "        sent_vec /= cnt_words\n",
    "    sent_vectors.append(sent_vec)\n",
    "print(len(sent_vectors))\n",
    "print(len(sent_vectors[0]))"
   ]
  },
  {
   "cell_type": "code",
   "execution_count": 35,
   "metadata": {},
   "outputs": [],
   "source": [
    "file = open(\"avg_vectors.pkl\", \"wb\")\n",
    "pickle.dump(sent_vectors, file)"
   ]
  },
  {
   "cell_type": "code",
   "execution_count": 36,
   "metadata": {
    "colab": {},
    "colab_type": "code",
    "id": "EM2v872OMQwy"
   },
   "outputs": [],
   "source": [
    "# S = [\"abc def pqr\", \"def def def abc\", \"pqr pqr def\"]\n",
    "model = TfidfVectorizer()\n",
    "tf_idf_matrix = model.fit_transform(final['CleanedText'].values)\n",
    "# we are converting a dictionary with word as a key, and the idf as a value\n",
    "dictionary = dict(zip(model.get_feature_names(), list(model.idf_)))"
   ]
  },
  {
   "cell_type": "code",
   "execution_count": 37,
   "metadata": {
    "colab": {},
    "colab_type": "code",
    "id": "Z0Kg_dbxMQw0",
    "scrolled": true
   },
   "outputs": [
    {
     "name": "stderr",
     "output_type": "stream",
     "text": [
      "100%|██████████| 364171/364171 [57:21<00:00, 105.83it/s] \n"
     ]
    }
   ],
   "source": [
    "# TF-IDF weighted Word2Vec\n",
    "tfidf_feat = model.get_feature_names() # tfidf words/col-names\n",
    "# final_tf_idf is the sparse matrix with row= sentence, col=word and cell_val = tfidf\n",
    "\n",
    "tfidf_sent_vectors = []; # the tfidf-w2v for each sentence/review is stored in this list\n",
    "row=0;\n",
    "for sent in tqdm(list_of_sent): # for each review/sentence \n",
    "    sent_vec = np.zeros(50) # as word vectors are of zero length\n",
    "    weight_sum =0; # num of words with a valid vector in the sentence/review\n",
    "    for word in sent: # for each word in a review/sentence\n",
    "        if word in w2v_words:\n",
    "            vec = w2v_model.wv[word]\n",
    "#             tf_idf = tf_idf_matrix[row, tfidf_feat.index(word)]\n",
    "            # to reduce the computation we are \n",
    "            # dictionary[word] = idf value of word in whole courpus\n",
    "            # sent.count(word) = tf valeus of word in this review\n",
    "            tf_idf = dictionary[word]*(sent.count(word)/len(sent))\n",
    "            sent_vec += (vec * tf_idf)\n",
    "            weight_sum += tf_idf\n",
    "    if weight_sum != 0:\n",
    "        sent_vec /= weight_sum\n",
    "    tfidf_sent_vectors.append(sent_vec)\n",
    "    row += 1"
   ]
  },
  {
   "cell_type": "code",
   "execution_count": 39,
   "metadata": {},
   "outputs": [],
   "source": [
    "file = open(\"tfidf_word2vec.pkl\", \"wb\")\n",
    "pickle.dump(tfidf_sent_vectors, file)"
   ]
  },
  {
   "cell_type": "code",
   "execution_count": 40,
   "metadata": {},
   "outputs": [
    {
     "name": "stdout",
     "output_type": "stream",
     "text": [
      "364171\n",
      "50\n"
     ]
    }
   ],
   "source": [
    "print(len(tfidf_sent_vectors))\n",
    "print(len(tfidf_sent_vectors[0]))"
   ]
  },
  {
   "cell_type": "code",
   "execution_count": 44,
   "metadata": {},
   "outputs": [
    {
     "name": "stdout",
     "output_type": "stream",
     "text": [
      "[ 0.40625752 -0.81734095  0.0425389  -0.35226797  0.6338093  -0.51426871\n",
      " -0.12992926  0.46224967  0.20409222  0.59952927  0.43253375  0.75103276\n",
      "  0.73529532 -0.36751139 -0.09252613 -1.1817231  -0.43135102 -0.03229498\n",
      "  0.30454943  0.28574399 -0.29858537  0.09550053 -0.27387753  0.35206369\n",
      " -1.20623755  0.28937278  0.04187837  0.02608621 -0.12195129  0.30926015\n",
      " -0.00511797  0.07584566 -0.35218409 -0.06157059 -0.15456523  0.07483617\n",
      "  0.43150275 -0.13060042 -0.14413061  0.68845195  0.1366235   0.46621115\n",
      "  0.80258109  0.32651883 -0.14880838  0.15333252  0.22700159  0.15260635\n",
      "  0.14964119 -0.03531183]\n"
     ]
    }
   ],
   "source": [
    "print(tfidf_sent_vectors[0])"
   ]
  },
  {
   "cell_type": "code",
   "execution_count": null,
   "metadata": {},
   "outputs": [],
   "source": []
  }
 ],
 "metadata": {
  "colab": {
   "collapsed_sections": [
    "0Zhvc5AMMQwD"
   ],
   "name": "Amazon Fine Food Reviews Analysis.ipynb",
   "provenance": [],
   "version": "0.3.2"
  },
  "kernelspec": {
   "display_name": "Python 3",
   "language": "python",
   "name": "python3"
  },
  "language_info": {
   "codemirror_mode": {
    "name": "ipython",
    "version": 3
   },
   "file_extension": ".py",
   "mimetype": "text/x-python",
   "name": "python",
   "nbconvert_exporter": "python",
   "pygments_lexer": "ipython3",
   "version": "3.5.6"
  }
 },
 "nbformat": 4,
 "nbformat_minor": 1
}
