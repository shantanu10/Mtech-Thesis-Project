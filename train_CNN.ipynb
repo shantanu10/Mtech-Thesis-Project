{
 "cells": [
  {
   "cell_type": "code",
   "execution_count": 86,
   "metadata": {},
   "outputs": [],
   "source": [
    "from __future__ import print_function\n",
    "\n",
    "import os\n",
    "import sys\n",
    "import numpy as np\n",
    "from keras.preprocessing.text import Tokenizer\n",
    "from keras.preprocessing.sequence import pad_sequences\n",
    "from keras.utils import to_categorical\n",
    "from keras.layers import Dense, Input, GlobalMaxPooling1D\n",
    "from keras.layers import Conv1D, MaxPooling1D, Embedding, LSTM\n",
    "from keras.models import Model\n",
    "from keras.initializers import Constant\n",
    "import pickle as pkl\n",
    "from sklearn.externals import joblib"
   ]
  },
  {
   "cell_type": "code",
   "execution_count": 68,
   "metadata": {},
   "outputs": [],
   "source": [
    "BASE_DIR = '../Glove'\n",
    "GLOVE_DIR = os.path.join(BASE_DIR, 'glove.6B')\n",
    "MAX_SEQUENCE_LENGTH = 100\n",
    "MAX_NUM_WORDS = 20000\n",
    "EMBEDDING_DIM = 50\n",
    "VALIDATION_SPLIT = 0.3"
   ]
  },
  {
   "cell_type": "code",
   "execution_count": 46,
   "metadata": {},
   "outputs": [
    {
     "name": "stdout",
     "output_type": "stream",
     "text": [
      "Indexing word vectors.\n",
      "Found 400000 word vectors.\n"
     ]
    }
   ],
   "source": [
    "# first, build index mapping words in the embeddings set\n",
    "# to their embedding vector\n",
    "\n",
    "print('Indexing word vectors.')\n",
    "\n",
    "embeddings_index = {}\n",
    "with open(os.path.join(GLOVE_DIR, 'glove.6B.50d.txt')) as f:\n",
    "    for line in f:\n",
    "        values = line.split()\n",
    "        word = values[0]\n",
    "        coefs = np.asarray(values[1:], dtype='float32')\n",
    "        embeddings_index[word] = coefs\n",
    "\n",
    "print('Found %s word vectors.' % len(embeddings_index))"
   ]
  },
  {
   "cell_type": "code",
   "execution_count": 62,
   "metadata": {},
   "outputs": [
    {
     "name": "stdout",
     "output_type": "stream",
     "text": [
      "[ 0.47222   -0.44545   -0.51833   -0.26818    0.44427   -0.25108\n",
      " -0.99282   -0.90198    1.8729     0.039081   0.14284    0.074878\n",
      "  1.0543    -0.3203     1.0722     0.44323    0.0099484  0.15754\n",
      "  0.51399   -0.77668    0.924      0.010958   0.58815    0.23078\n",
      " -0.34281   -0.88444   -0.31492    0.12661    1.1445     0.60775\n",
      "  3.4344     0.63561   -0.13832    0.28045   -0.16181    0.77541\n",
      " -0.49888    0.4602     0.91799    0.29007    0.06884    0.59978\n",
      "  0.53967   -0.061752   1.2975     0.92323   -0.80945    0.34932\n",
      "  0.33934    0.25499  ]\n"
     ]
    }
   ],
   "source": [
    "print(embeddings_index['food'])"
   ]
  },
  {
   "cell_type": "code",
   "execution_count": 66,
   "metadata": {},
   "outputs": [],
   "source": [
    "infile = open(\"Texts.pkl\", \"rb\")\n",
    "texts = pkl.load(infile)\n",
    "infile2 = open(\"score.pkl\", \"rb\")\n",
    "labels = pkl.load(infile2)"
   ]
  },
  {
   "cell_type": "code",
   "execution_count": 67,
   "metadata": {},
   "outputs": [
    {
     "name": "stdout",
     "output_type": "stream",
     "text": [
      "<class 'list'>\n",
      "<class 'str'>\n",
      "364171\n",
      "<class 'list'>\n",
      "<class 'int'>\n",
      "364171\n"
     ]
    }
   ],
   "source": [
    "print(type(texts))\n",
    "print(type(texts[0]))\n",
    "print(len(texts))\n",
    "print(type(labels))\n",
    "print(type(labels[0]))\n",
    "print(len(labels))"
   ]
  },
  {
   "cell_type": "code",
   "execution_count": 69,
   "metadata": {},
   "outputs": [
    {
     "name": "stdout",
     "output_type": "stream",
     "text": [
      "Found 71626 unique tokens.\n",
      "Shape of data tensor: (364171, 100)\n",
      "Shape of label tensor: (364171, 2)\n"
     ]
    }
   ],
   "source": [
    "# finally, vectorize the text samples into a 2D integer tensor\n",
    "\n",
    "#tokenization\n",
    "tokenizer = Tokenizer(num_words=MAX_NUM_WORDS)\n",
    "tokenizer.fit_on_texts(texts)\n",
    "sequences = tokenizer.texts_to_sequences(texts)\n",
    "\n",
    "word_index = tokenizer.word_index\n",
    "print('Found %s unique tokens.' % len(word_index))\n",
    "\n",
    "#padding the sequences so that they must have equal length\n",
    "data = pad_sequences(sequences, maxlen=MAX_SEQUENCE_LENGTH)\n",
    "\n",
    "labels = to_categorical(np.asarray(labels))\n",
    "print('Shape of data tensor:', data.shape)\n",
    "print('Shape of label tensor:', labels.shape)"
   ]
  },
  {
   "cell_type": "code",
   "execution_count": 71,
   "metadata": {},
   "outputs": [
    {
     "name": "stdout",
     "output_type": "stream",
     "text": [
      "<class 'list'>\n",
      "<class 'dict'>\n",
      "[14426, 28, 1082, 14, 369, 2405, 3182, 13462, 1117, 1214, 543, 103, 3775, 7624, 846, 793, 10259, 1817, 11796, 8, 171, 781, 1082, 1054, 2791, 1213, 1082, 1481, 1862, 369, 82, 258, 13462, 1407, 1661]\n"
     ]
    }
   ],
   "source": [
    "print(type(sequences))\n",
    "print(type(word_index))\n",
    "print(sequences[0])"
   ]
  },
  {
   "cell_type": "code",
   "execution_count": 72,
   "metadata": {},
   "outputs": [],
   "source": [
    "# split the data into a training set and a validation set\n",
    "indices = np.arange(data.shape[0])\n",
    "np.random.shuffle(indices)\n",
    "data = data[indices]\n",
    "labels = labels[indices]\n",
    "num_validation_samples = int(VALIDATION_SPLIT * data.shape[0])\n",
    "\n",
    "x_train = data[:-num_validation_samples]\n",
    "y_train = labels[:-num_validation_samples]\n",
    "x_val = data[-num_validation_samples:]\n",
    "y_val = labels[-num_validation_samples:]\n"
   ]
  },
  {
   "cell_type": "code",
   "execution_count": 73,
   "metadata": {},
   "outputs": [
    {
     "name": "stdout",
     "output_type": "stream",
     "text": [
      "Preparing embedding matrix.\n"
     ]
    }
   ],
   "source": [
    "# prepare embedding matrix\n",
    "print('Preparing embedding matrix.')\n",
    "num_words = min(MAX_NUM_WORDS, len(word_index)) + 1\n",
    "embedding_matrix = np.zeros((num_words, EMBEDDING_DIM))\n",
    "for word, i in word_index.items():\n",
    "    if i > MAX_NUM_WORDS:\n",
    "        continue\n",
    "    embedding_vector = embeddings_index.get(word)\n",
    "    if embedding_vector is not None:\n",
    "        # words not found in embedding index will be all-zeros.\n",
    "        embedding_matrix[i] = embedding_vector\n"
   ]
  },
  {
   "cell_type": "code",
   "execution_count": 74,
   "metadata": {},
   "outputs": [],
   "source": [
    "# load pre-trained word embeddings into an Embedding layer\n",
    "# note that we set trainable = False so as to keep the embeddings fixed\n",
    "embedding_layer = Embedding(num_words,\n",
    "                            EMBEDDING_DIM,\n",
    "                            embeddings_initializer=Constant(embedding_matrix),\n",
    "                            input_length=MAX_SEQUENCE_LENGTH,\n",
    "                            trainable=False)\n"
   ]
  },
  {
   "cell_type": "code",
   "execution_count": 76,
   "metadata": {},
   "outputs": [],
   "source": [
    "from keras import backend as K\n",
    "K.set_image_dim_ordering('th')"
   ]
  },
  {
   "cell_type": "code",
   "execution_count": 80,
   "metadata": {},
   "outputs": [
    {
     "name": "stdout",
     "output_type": "stream",
     "text": [
      "Configuring and compiling model..\n"
     ]
    }
   ],
   "source": [
    "# train a 1D convnet with global maxpooling\n",
    "print('Configuring and compiling CNN model..')\n",
    "sequence_input = Input(shape=(MAX_SEQUENCE_LENGTH,), dtype='int32')\n",
    "embedded_sequences = embedding_layer(sequence_input)\n",
    "x = Conv1D(128, 5, activation='relu', data_format='channels_first')(embedded_sequences)\n",
    "x = MaxPooling1D(5)(x)\n",
    "x = Conv1D(128, 5, activation='relu', data_format='channels_first')(x)\n",
    "x = MaxPooling1D(5)(x)\n",
    "x = Conv1D(128, 5, activation='relu', data_format='channels_first')(x)\n",
    "x = GlobalMaxPooling1D()(x)\n",
    "x = Dense(128, activation='relu')(x)\n",
    "preds = Dense(2, activation='softmax')(x)\n",
    "\n",
    "model = Model(sequence_input, preds)\n",
    "model.compile(loss='categorical_crossentropy',\n",
    "              optimizer='rmsprop',\n",
    "              metrics=['acc'])"
   ]
  },
  {
   "cell_type": "code",
   "execution_count": 81,
   "metadata": {},
   "outputs": [
    {
     "name": "stdout",
     "output_type": "stream",
     "text": [
      "Training model...\n",
      "Train on 254920 samples, validate on 109251 samples\n",
      "Epoch 1/10\n",
      "254920/254920 [==============================] - 570s 2ms/step - loss: 0.3953 - acc: 0.8447 - val_loss: 0.3998 - val_acc: 0.8332\n",
      "Epoch 2/10\n",
      "254920/254920 [==============================] - 573s 2ms/step - loss: 0.3566 - acc: 0.8538 - val_loss: 0.3640 - val_acc: 0.8496\n",
      "Epoch 3/10\n",
      "254920/254920 [==============================] - 570s 2ms/step - loss: 0.3348 - acc: 0.8622 - val_loss: 0.3582 - val_acc: 0.8545\n",
      "Epoch 4/10\n",
      "254920/254920 [==============================] - 567s 2ms/step - loss: 0.3166 - acc: 0.8694 - val_loss: 0.3714 - val_acc: 0.8527\n",
      "Epoch 5/10\n",
      "254920/254920 [==============================] - 568s 2ms/step - loss: 0.3001 - acc: 0.8766 - val_loss: 0.3790 - val_acc: 0.8501\n",
      "Epoch 6/10\n",
      "254920/254920 [==============================] - 567s 2ms/step - loss: 0.2875 - acc: 0.8820 - val_loss: 0.4035 - val_acc: 0.8452\n",
      "Epoch 7/10\n",
      "254920/254920 [==============================] - 567s 2ms/step - loss: 0.2756 - acc: 0.8873 - val_loss: 0.4108 - val_acc: 0.8368\n",
      "Epoch 8/10\n",
      "254920/254920 [==============================] - 568s 2ms/step - loss: 0.2666 - acc: 0.8913 - val_loss: 0.4295 - val_acc: 0.8364\n",
      "Epoch 9/10\n",
      "254920/254920 [==============================] - 568s 2ms/step - loss: 0.2583 - acc: 0.8945 - val_loss: 0.4301 - val_acc: 0.8359\n",
      "Epoch 10/10\n",
      "254920/254920 [==============================] - 568s 2ms/step - loss: 0.2519 - acc: 0.8977 - val_loss: 0.4598 - val_acc: 0.8459\n"
     ]
    },
    {
     "data": {
      "text/plain": [
       "<keras.callbacks.History at 0x7f856c679668>"
      ]
     },
     "execution_count": 81,
     "metadata": {},
     "output_type": "execute_result"
    }
   ],
   "source": [
    "print(\"Training model...\")\n",
    "model.fit(x_train, y_train,\n",
    "          batch_size=128,\n",
    "          epochs=10,\n",
    "          validation_data=(x_val, y_val))"
   ]
  },
  {
   "cell_type": "code",
   "execution_count": 84,
   "metadata": {},
   "outputs": [
    {
     "name": "stdout",
     "output_type": "stream",
     "text": [
      "Configuring and compiling LSTM model..\n"
     ]
    }
   ],
   "source": [
    "# train a 1D convnet with global maxpooling\n",
    "print('Configuring and compiling LSTM model..')\n",
    "sequence_input = Input(shape=(MAX_SEQUENCE_LENGTH,), dtype='int32')\n",
    "embedded_sequences = embedding_layer(sequence_input)\n",
    "x = LSTM(100, dropout=0.2, recurrent_dropout=0.2, return_sequences=False)(embedded_sequences)\n",
    "x = Dense(128, activation='relu')(x)\n",
    "preds = Dense(2, activation='softmax')(x)\n",
    "\n",
    "model = Model(sequence_input, preds)\n",
    "model.compile(loss='categorical_crossentropy',\n",
    "              optimizer='rmsprop',\n",
    "              metrics=['acc'])"
   ]
  },
  {
   "cell_type": "code",
   "execution_count": 85,
   "metadata": {},
   "outputs": [
    {
     "name": "stdout",
     "output_type": "stream",
     "text": [
      "Training model...\n",
      "Train on 254920 samples, validate on 109251 samples\n",
      "Epoch 1/10\n",
      "254920/254920 [==============================] - 931s 4ms/step - loss: 0.3419 - acc: 0.8601 - val_loss: 0.3032 - val_acc: 0.8778\n",
      "Epoch 2/10\n",
      "254920/254920 [==============================] - 943s 4ms/step - loss: 0.2873 - acc: 0.8825 - val_loss: 0.2548 - val_acc: 0.8966\n",
      "Epoch 3/10\n",
      "254920/254920 [==============================] - 928s 4ms/step - loss: 0.2657 - acc: 0.8919 - val_loss: 0.2421 - val_acc: 0.9017\n",
      "Epoch 4/10\n",
      "254920/254920 [==============================] - 922s 4ms/step - loss: 0.2528 - acc: 0.8974 - val_loss: 0.2346 - val_acc: 0.9051\n",
      "Epoch 5/10\n",
      "254920/254920 [==============================] - 921s 4ms/step - loss: 0.2430 - acc: 0.9013 - val_loss: 0.2261 - val_acc: 0.9083\n",
      "Epoch 6/10\n",
      "254920/254920 [==============================] - 923s 4ms/step - loss: 0.2357 - acc: 0.9048 - val_loss: 0.2273 - val_acc: 0.9094\n",
      "Epoch 7/10\n",
      "254920/254920 [==============================] - 922s 4ms/step - loss: 0.2306 - acc: 0.9068 - val_loss: 0.2191 - val_acc: 0.9128\n",
      "Epoch 8/10\n",
      "254920/254920 [==============================] - 930s 4ms/step - loss: 0.2265 - acc: 0.9088 - val_loss: 0.2202 - val_acc: 0.9119\n",
      "Epoch 9/10\n",
      "254920/254920 [==============================] - 944s 4ms/step - loss: 0.2226 - acc: 0.9105 - val_loss: 0.2128 - val_acc: 0.9135\n",
      "Epoch 10/10\n",
      "254920/254920 [==============================] - 947s 4ms/step - loss: 0.2190 - acc: 0.9117 - val_loss: 0.2201 - val_acc: 0.9133\n"
     ]
    },
    {
     "data": {
      "text/plain": [
       "<keras.callbacks.History at 0x7f856c0f85c0>"
      ]
     },
     "execution_count": 85,
     "metadata": {},
     "output_type": "execute_result"
    }
   ],
   "source": [
    "print(\"Training model...\")\n",
    "model.fit(x_train, y_train,\n",
    "          batch_size=128,\n",
    "          epochs=10,\n",
    "          validation_data=(x_val, y_val))"
   ]
  },
  {
   "cell_type": "code",
   "execution_count": 87,
   "metadata": {},
   "outputs": [
    {
     "data": {
      "text/plain": [
       "['lstm_model.sav']"
      ]
     },
     "execution_count": 87,
     "metadata": {},
     "output_type": "execute_result"
    }
   ],
   "source": [
    "filename = 'lstm_model.sav'\n",
    "joblib.dump(model, filename)"
   ]
  },
  {
   "cell_type": "code",
   "execution_count": null,
   "metadata": {},
   "outputs": [],
   "source": []
  }
 ],
 "metadata": {
  "kernelspec": {
   "display_name": "Python 3",
   "language": "python",
   "name": "python3"
  },
  "language_info": {
   "codemirror_mode": {
    "name": "ipython",
    "version": 3
   },
   "file_extension": ".py",
   "mimetype": "text/x-python",
   "name": "python",
   "nbconvert_exporter": "python",
   "pygments_lexer": "ipython3",
   "version": "3.6.4"
  }
 },
 "nbformat": 4,
 "nbformat_minor": 2
}
